{
 "cells": [
  {
   "cell_type": "code",
   "execution_count": 1,
   "id": "81e5148b",
   "metadata": {
    "_cell_guid": "b1076dfc-b9ad-4769-8c92-a6c4dae69d19",
    "_uuid": "8f2839f25d086af736a60e9eeb907d3b93b6e0e5",
    "execution": {
     "iopub.execute_input": "2025-03-31T02:05:18.238924Z",
     "iopub.status.busy": "2025-03-31T02:05:18.238492Z",
     "iopub.status.idle": "2025-03-31T02:05:19.366944Z",
     "shell.execute_reply": "2025-03-31T02:05:19.365801Z"
    },
    "papermill": {
     "duration": 1.138842,
     "end_time": "2025-03-31T02:05:19.369851",
     "exception": false,
     "start_time": "2025-03-31T02:05:18.231009",
     "status": "completed"
    },
    "tags": []
   },
   "outputs": [
    {
     "name": "stdout",
     "output_type": "stream",
     "text": [
      "↓↓↓↓↓↓↓↓↓↓↓↓↓↓↓↓↓↓↓↓↓↓↓↓↓↓↓↓↓↓\n",
      "\n",
      "文件详细信息：\n",
      "==================================================\n",
      "文件名称:\n",
      "  ▸ FileObject.py\n",
      "--------------------------------------------------\n",
      "绝对路径:\n",
      "  ▸ /kaggle/input/functions/FileObject.py\n",
      "--------------------------------------------------\n",
      "真实路径:\n",
      "  ▸ N/A\n",
      "--------------------------------------------------\n",
      "文件类型:\n",
      "  ▸ 普通文件\n",
      "--------------------------------------------------\n",
      "文件大小:\n",
      "  ▸ 3399 bytes\n",
      "--------------------------------------------------\n",
      "占用块数:\n",
      "  ▸ 8\n",
      "--------------------------------------------------\n",
      "IO块大小:\n",
      "  ▸ 1048576 bytes\n",
      "--------------------------------------------------\n",
      "文件系统编码:\n",
      "  ▸ utf-8\n",
      "--------------------------------------------------\n",
      "访问权限:\n",
      "  ▸ 符号表示           : -rw-r--r--\n",
      "  ▸ 八进制表示          : 0644\n",
      "--------------------------------------------------\n",
      "时间信息:\n",
      "  ▸ 创建时间           : 2025-03-31 02:05:03\n",
      "  ▸ 修改时间           : 2025-03-31 02:05:03\n",
      "  ▸ 访问时间           : 2025-03-31 02:05:02\n",
      "--------------------------------------------------\n",
      "设备信息:\n",
      "  ▸ inode编号        : 67020254327\n",
      "  ▸ 设备号            : 0:55\n",
      "  ▸ 硬链接数           : 1\n",
      "--------------------------------------------------\n",
      "所有者信息:\n",
      "  ▸ 用户ID           : 65534\n",
      "  ▸ 组ID            : 65534\n",
      "--------------------------------------------------\n",
      "↓↓↓↓↓↓↓↓↓↓↓↓↓↓↓↓↓↓↓↓↓↓↓↓↓↓↓↓↓↓\n",
      "\n",
      "文件详细信息：\n",
      "==================================================\n",
      "文件名称:\n",
      "  ▸ incComm.py\n",
      "--------------------------------------------------\n",
      "绝对路径:\n",
      "  ▸ /kaggle/input/include/pytorch/default/6/incComm.py\n",
      "--------------------------------------------------\n",
      "真实路径:\n",
      "  ▸ N/A\n",
      "--------------------------------------------------\n",
      "文件类型:\n",
      "  ▸ 普通文件\n",
      "--------------------------------------------------\n",
      "文件大小:\n",
      "  ▸ 430 bytes\n",
      "--------------------------------------------------\n",
      "占用块数:\n",
      "  ▸ 8\n",
      "--------------------------------------------------\n",
      "IO块大小:\n",
      "  ▸ 1048576 bytes\n",
      "--------------------------------------------------\n",
      "文件系统编码:\n",
      "  ▸ utf-8\n",
      "--------------------------------------------------\n",
      "访问权限:\n",
      "  ▸ 符号表示           : -rw-r--r--\n",
      "  ▸ 八进制表示          : 0644\n",
      "--------------------------------------------------\n",
      "时间信息:\n",
      "  ▸ 创建时间           : 2025-03-31 02:05:03\n",
      "  ▸ 修改时间           : 2025-03-31 02:05:03\n",
      "  ▸ 访问时间           : 2025-03-31 02:05:02\n",
      "--------------------------------------------------\n",
      "设备信息:\n",
      "  ▸ inode编号        : 67033107756\n",
      "  ▸ 设备号            : 0:55\n",
      "  ▸ 硬链接数           : 1\n",
      "--------------------------------------------------\n",
      "所有者信息:\n",
      "  ▸ 用户ID           : 65534\n",
      "  ▸ 组ID            : 65534\n",
      "--------------------------------------------------\n",
      "↓↓↓↓↓↓↓↓↓↓↓↓↓↓↓↓↓↓↓↓↓↓↓↓↓↓↓↓↓↓\n",
      "\n",
      "文件详细信息：\n",
      "==================================================\n",
      "文件名称:\n",
      "  ▸ incTree.py\n",
      "--------------------------------------------------\n",
      "绝对路径:\n",
      "  ▸ /kaggle/input/include/pytorch/default/6/incTree.py\n",
      "--------------------------------------------------\n",
      "真实路径:\n",
      "  ▸ N/A\n",
      "--------------------------------------------------\n",
      "文件类型:\n",
      "  ▸ 普通文件\n",
      "--------------------------------------------------\n",
      "文件大小:\n",
      "  ▸ 865 bytes\n",
      "--------------------------------------------------\n",
      "占用块数:\n",
      "  ▸ 8\n",
      "--------------------------------------------------\n",
      "IO块大小:\n",
      "  ▸ 1048576 bytes\n",
      "--------------------------------------------------\n",
      "文件系统编码:\n",
      "  ▸ utf-8\n",
      "--------------------------------------------------\n",
      "访问权限:\n",
      "  ▸ 符号表示           : -rw-r--r--\n",
      "  ▸ 八进制表示          : 0644\n",
      "--------------------------------------------------\n",
      "时间信息:\n",
      "  ▸ 创建时间           : 2025-03-31 02:05:03\n",
      "  ▸ 修改时间           : 2025-03-31 02:05:03\n",
      "  ▸ 访问时间           : 2025-03-31 02:05:03\n",
      "--------------------------------------------------\n",
      "设备信息:\n",
      "  ▸ inode编号        : 67022569593\n",
      "  ▸ 设备号            : 0:55\n",
      "  ▸ 硬链接数           : 1\n",
      "--------------------------------------------------\n",
      "所有者信息:\n",
      "  ▸ 用户ID           : 65534\n",
      "  ▸ 组ID            : 65534\n",
      "--------------------------------------------------\n",
      "↓↓↓↓↓↓↓↓↓↓↓↓↓↓↓↓↓↓↓↓↓↓↓↓↓↓↓↓↓↓\n",
      "\n",
      "文件详细信息：\n",
      "==================================================\n",
      "文件名称:\n",
      "  ▸ incFSO.py\n",
      "--------------------------------------------------\n",
      "绝对路径:\n",
      "  ▸ /kaggle/input/include/pytorch/default/6/incFSO.py\n",
      "--------------------------------------------------\n",
      "真实路径:\n",
      "  ▸ N/A\n",
      "--------------------------------------------------\n",
      "文件类型:\n",
      "  ▸ 普通文件\n",
      "--------------------------------------------------\n",
      "文件大小:\n",
      "  ▸ 3957 bytes\n",
      "--------------------------------------------------\n",
      "占用块数:\n",
      "  ▸ 8\n",
      "--------------------------------------------------\n",
      "IO块大小:\n",
      "  ▸ 1048576 bytes\n",
      "--------------------------------------------------\n",
      "文件系统编码:\n",
      "  ▸ utf-8\n",
      "--------------------------------------------------\n",
      "访问权限:\n",
      "  ▸ 符号表示           : -rw-r--r--\n",
      "  ▸ 八进制表示          : 0644\n",
      "--------------------------------------------------\n",
      "时间信息:\n",
      "  ▸ 创建时间           : 2025-03-31 02:05:03\n",
      "  ▸ 修改时间           : 2025-03-31 02:05:03\n",
      "  ▸ 访问时间           : 2025-03-31 02:05:02\n",
      "--------------------------------------------------\n",
      "设备信息:\n",
      "  ▸ inode编号        : 67033107758\n",
      "  ▸ 设备号            : 0:55\n",
      "  ▸ 硬链接数           : 1\n",
      "--------------------------------------------------\n",
      "所有者信息:\n",
      "  ▸ 用户ID           : 65534\n",
      "  ▸ 组ID            : 65534\n",
      "--------------------------------------------------\n",
      "↓↓↓↓↓↓↓↓↓↓↓↓↓↓↓↓↓↓↓↓↓↓↓↓↓↓↓↓↓↓\n",
      "\n",
      "文件详细信息：\n",
      "==================================================\n",
      "文件名称:\n",
      "  ▸ creditcard.csv\n",
      "--------------------------------------------------\n",
      "绝对路径:\n",
      "  ▸ /kaggle/input/abnormal-transaction-warning-system/creditcard.csv\n",
      "--------------------------------------------------\n",
      "真实路径:\n",
      "  ▸ N/A\n",
      "--------------------------------------------------\n",
      "文件类型:\n",
      "  ▸ 普通文件\n",
      "--------------------------------------------------\n",
      "文件大小:\n",
      "  ▸ 113160432 bytes\n",
      "--------------------------------------------------\n",
      "占用块数:\n",
      "  ▸ 221024\n",
      "--------------------------------------------------\n",
      "IO块大小:\n",
      "  ▸ 1048576 bytes\n",
      "--------------------------------------------------\n",
      "文件系统编码:\n",
      "  ▸ utf-8\n",
      "--------------------------------------------------\n",
      "访问权限:\n",
      "  ▸ 符号表示           : -rw-r--r--\n",
      "  ▸ 八进制表示          : 0644\n",
      "--------------------------------------------------\n",
      "时间信息:\n",
      "  ▸ 创建时间           : 2025-03-31 02:05:08\n",
      "  ▸ 修改时间           : 2025-03-31 02:05:08\n",
      "  ▸ 访问时间           : 2025-03-31 02:05:02\n",
      "--------------------------------------------------\n",
      "设备信息:\n",
      "  ▸ inode编号        : 67020254326\n",
      "  ▸ 设备号            : 0:55\n",
      "  ▸ 硬链接数           : 1\n",
      "--------------------------------------------------\n",
      "所有者信息:\n",
      "  ▸ 用户ID           : 65534\n",
      "  ▸ 组ID            : 65534\n",
      "--------------------------------------------------\n"
     ]
    }
   ],
   "source": [
    "\n",
    "import numpy as np # linear algebra\n",
    "import pandas as pd # data processing, CSV file I/O (e.g. pd.read_csv)\n",
    "import os\n",
    "\n",
    "from importlib.machinery import SourceFileLoader\n",
    "# 加载模块并重命名\n",
    "sss = SourceFileLoader(\"sss\", \"/kaggle/input/include/pytorch/default/6/incFSO.py\").load_module()\n",
    "\n",
    "for dirname, _, filenames in os.walk('/kaggle/input'):\n",
    "    for filename in filenames:\n",
    "        file_path=os.path.join(dirname, filename)\n",
    "        print(\"↓↓↓↓↓↓↓↓↓↓↓↓↓↓↓↓↓↓↓↓↓↓↓↓↓↓↓↓↓↓\")\n",
    "        sss.print_file_info(file_path)\n",
    "\n",
    "# You can write up to 20GB to the current directory (/kaggle/working/) that gets preserved as output when you create a version using \"Save & Run All\" \n",
    "# You can also write temporary files to /kaggle/temp/, but they won't be saved outside of the current session"
   ]
  },
  {
   "cell_type": "markdown",
   "id": "e23b2555",
   "metadata": {
    "papermill": {
     "duration": 0.004798,
     "end_time": "2025-03-31T02:05:19.380444",
     "exception": false,
     "start_time": "2025-03-31T02:05:19.375646",
     "status": "completed"
    },
    "tags": []
   },
   "source": [
    "**Main**"
   ]
  },
  {
   "cell_type": "code",
   "execution_count": 2,
   "id": "3547fbf8",
   "metadata": {
    "execution": {
     "iopub.execute_input": "2025-03-31T02:05:19.392015Z",
     "iopub.status.busy": "2025-03-31T02:05:19.391488Z",
     "iopub.status.idle": "2025-03-31T02:06:07.067351Z",
     "shell.execute_reply": "2025-03-31T02:06:07.066225Z"
    },
    "papermill": {
     "duration": 47.683956,
     "end_time": "2025-03-31T02:06:07.069356",
     "exception": false,
     "start_time": "2025-03-31T02:05:19.385400",
     "status": "completed"
    },
    "tags": []
   },
   "outputs": [
    {
     "name": "stdout",
     "output_type": "stream",
     "text": [
      "====================1. 数据获取与加载\n",
      "====================1.1 加载数据\n",
      "数据加载完毕 正常交易: 284315 条\n",
      "数据加载完毕 异常交易: 492 条\n",
      "====================2. 数据探索与预处理\n",
      "====================2.1 处理不平衡数据\n",
      "正常交易: 284315 条\n",
      "异常交易: 492 条\n",
      "采样后 样本数： 284807\n",
      "采样后 正常比：99.83% \n",
      "采样后 异常比：0.17% \n",
      "====================2.2 特征标准化\n",
      "====================3. 特征工程\n",
      "====================3.1 基于领域知识的特征生成\n",
      "====================3.2 降维（因V1-V28是降维后的匿名特征，故跳过此步）\n",
      "====================4. 构建最终数据集\n",
      "====================4.1 分割训练集与测试集\n",
      "====================4.2 保存数据集\n",
      "====================5. 验证数据集质量\n",
      "====================5.1 可视化特征分布\n",
      "决策树分箱边界: [-1.99658302 -1.98655945  1.64205773]\n"
     ]
    },
    {
     "name": "stderr",
     "output_type": "stream",
     "text": [
      "/usr/local/lib/python3.10/dist-packages/seaborn/_oldcore.py:1119: FutureWarning: use_inf_as_na option is deprecated and will be removed in a future version. Convert inf values to NaN before operating instead.\n",
      "  with pd.option_context('mode.use_inf_as_na', True):\n",
      "/usr/local/lib/python3.10/dist-packages/seaborn/_oldcore.py:1075: FutureWarning: When grouping with a length-1 list-like, you will need to pass a length-1 tuple to get_group in a future version of pandas. Pass `(name,)` instead of `name` to silence this warning.\n",
      "  data_subset = grouped_data.get_group(pd_key)\n",
      "/usr/local/lib/python3.10/dist-packages/seaborn/_oldcore.py:1075: FutureWarning: When grouping with a length-1 list-like, you will need to pass a length-1 tuple to get_group in a future version of pandas. Pass `(name,)` instead of `name` to silence this warning.\n",
      "  data_subset = grouped_data.get_group(pd_key)\n",
      "/usr/local/lib/python3.10/dist-packages/seaborn/_oldcore.py:1075: FutureWarning: When grouping with a length-1 list-like, you will need to pass a length-1 tuple to get_group in a future version of pandas. Pass `(name,)` instead of `name` to silence this warning.\n",
      "  data_subset = grouped_data.get_group(pd_key)\n",
      "/usr/local/lib/python3.10/dist-packages/seaborn/_oldcore.py:1075: FutureWarning: When grouping with a length-1 list-like, you will need to pass a length-1 tuple to get_group in a future version of pandas. Pass `(name,)` instead of `name` to silence this warning.\n",
      "  data_subset = grouped_data.get_group(pd_key)\n"
     ]
    },
    {
     "data": {
      "image/png": "[encoded data removed]",
      "text/plain": [
       "<Figure size 640x480 with 1 Axes>"
      ]
     },
     "metadata": {},
     "output_type": "display_data"
    },
    {
     "name": "stdout",
     "output_type": "stream",
     "text": [
      "====================5.2 特征相关性分析\n"
     ]
    },
    {
     "data": {
      "image/png": "[encoded data removed]",
      "text/plain": [
       "<Figure size 1200x800 with 2 Axes>"
      ]
     },
     "metadata": {},
     "output_type": "display_data"
    }
   ],
   "source": [
    "import pandas as pd\n",
    "\n",
    "print(\"====================1. 数据获取与加载\")\n",
    "print(\"====================1.1 加载数据\")\n",
    "# 加载信用卡欺诈数据集（CSV格式）\n",
    "data = pd.read_csv('/kaggle/input/abnormal-transaction-warning-system/creditcard.csv')\n",
    "# 查看数据概况\n",
    "# print(data.head())\n",
    "print(f\"数据加载完毕 正常交易: {data['Class'].value_counts()[0]} 条\")\n",
    "print(f\"数据加载完毕 异常交易: {data['Class'].value_counts()[1]} 条\")\n",
    "\n",
    "\n",
    "print(\"====================2. 数据探索与预处理\")\n",
    "print(\"====================2.1 处理不平衡数据\")\n",
    "from sklearn.utils import resample\n",
    "\n",
    "# ​分离特征与标签\n",
    "X = data.drop('Class', axis=1)  # 特征（V1-V28、Amount、Time）\n",
    "y = data['Class']               # 标签（0=正常，1=欺诈）\n",
    "print(f\"正常交易: {y.value_counts()[0]} 条\")\n",
    "print(f\"异常交易: {y.value_counts()[1]} 条\")\n",
    "# ​标准化特征​（避免量纲差异影响采样效果）\n",
    "from sklearn.preprocessing import StandardScaler\n",
    "scaler = StandardScaler()\n",
    "X_scaled = scaler.fit_transform(X)\n",
    "\n",
    "# ​分离多数类与少数类\n",
    "# 正常交易（多数类）\n",
    "normal_indices = y[y == 0].index\n",
    "normal_X = X_scaled[y == 0]\n",
    "# 异常交易（少数类）\n",
    "fraud_indices = y[y == 1].index\n",
    "fraud_X = X_scaled[y == 1]\n",
    "\n",
    "# ​使用SMOTE生成合成样本\n",
    "from imblearn.over_sampling import SMOTE\n",
    "smote = SMOTE(random_state=42)\n",
    "fraud_X_resampled, fraud_y_resampled = smote.fit_resample(fraud_X, fraud_indices)\n",
    "print(\"采样后 样本数：\",(len(fraud_X_resampled) + len(normal_X)))\n",
    "print(\"采样后 正常比：%.2f%% \" % (len(normal_X) / (len(normal_X) + len(fraud_X_resampled))*100))\n",
    "print(\"采样后 异常比：%.2f%% \" % (len(fraud_X_resampled) / (len(normal_X) + len(fraud_X_resampled))*100))\n",
    "\n",
    "# ​合并数据集\n",
    "# 合并多数类原始样本与少数类合成样本\n",
    "import numpy as np\n",
    "X_combined = np.concatenate([normal_X, fraud_X_resampled], axis=0)\n",
    "y_combined = np.concatenate([np.zeros(len(normal_X)), np.ones(len(fraud_X_resampled))], axis=0)\n",
    "\n",
    "# 转换为DataFrame\n",
    "data = pd.DataFrame(X_combined, columns=X.columns)\n",
    "data['Class'] = y_combined\n",
    "\n",
    "\n",
    "print(\"====================2.2 特征标准化\")\n",
    "from sklearn.preprocessing import StandardScaler\n",
    "\n",
    "# 标准化金额特征（Amount）\n",
    "# scaler = StandardScaler()                                                        #<<<<<<<<<<<<<<<<\n",
    "# 计算均值和标准差（fit:mean+std） + 标准正态分布（transform）\n",
    "\n",
    "# print(\"array_Amount_values 行:%r \" % (len(data['Amount'].values.astype(int))))\n",
    "# print(\"array_Amount_values.reshape(-1, 1) 行:%r \" % (len(data['Amount'].values.reshape(-1, 1).astype(int))))\n",
    "\n",
    "# data['Amount'] = scaler.fit_transform(data['Amount'].values.reshape(-1, 1))     #reshape(行，列) 当行/列不定时，可以设位 -1\n",
    "\n",
    "# 删除无关列（如时间戳Time）\n",
    "# data.drop(['Time'], axis=1, inplace=True)                                       #<<<<<<<<<<<<<<< 导致下一个命令错误\n",
    "\n",
    "\n",
    "print(\"====================3. 特征工程\")\n",
    "print(\"====================3.1 基于领域知识的特征生成\")\n",
    "# 针对右偏分布，进行对数变换增强决策树分箱效果\n",
    "data['log_amount'] = np.log1p(data['Amount'])\n",
    "# 生成时间窗口特征（如小时段）\n",
    "data['Hour'] = data['Time'] // 3600   # Time单位为秒\n",
    "# 生成交易频率特征（如用户近期交易次数）\n",
    "# 假设数据中有UserID列（实际需根据数据集调整）\n",
    "data['RecentTxCount'] = data.groupby('UserID')['TransactionID'].transform('count')   # 分组聚合 *transform 前一个如果是多维注意lammdba是否返回Series\n",
    "print(\"====================3.2 降维（因V1-V28是降维后的匿名特征，故跳过此步）\")\n",
    "'''\n",
    "from sklearn.decomposition import PCA\n",
    "\n",
    "# 对高维特征（V1-V28）进行PCA降维\n",
    "# 若0<n_components<1，则n_components的值为主成分方差的阈值； 通过设置该变量，即可调整主成分数量K；\n",
    "# 若n_components≥1，则降维后的特征数为n_components；\n",
    "# whiten：参数为bool型，是否对降维后的数据的每个特征进行归一化，默认是False\n",
    "pca = PCA(n_components=28)\n",
    "# fit(X,y=None) ：用训练数据X训练模型，由于PCA是无监督降维，因此y=None。\n",
    "# transform(X,y=None) ：训练好模型后，对输入数据X进行降维。\n",
    "# fit_transform(X) ：用训练数据X训练模型，并对X进行降维。相当于先用fit(X)，再用transform(X)。\n",
    "# inverse_transform(X) ：将降维后的数据还原成原始数据的近似。(PCA的重建)\n",
    "pca_features = pca.fit_transform(data[[f'V{i}' for i in range(1, 29)]])  \n",
    "\n",
    "# 将降维结果合并到数据集\n",
    "data_pca = pd.DataFrame(pca_features, columns=[f'PC{i}' for i in range(1, 29)])  # i的范围 1- （n_components+1）\n",
    "data_pca.to_csv('data_pca.csv',columns=[f'PC{i}' for i in range(1, 29)])   #保存降维过的文件，以便本地对比\n",
    "data = pd.concat([data, data_pca], axis=1)  # axis= 0(Y轴：默认)/1(x轴)      \n",
    "'''\n",
    "\n",
    "\n",
    "print(\"====================4. 构建最终数据集\")\n",
    "print(\"====================4.1 分割训练集与测试集\")\n",
    "from sklearn.model_selection import train_test_split\n",
    "X = data.drop('Class', axis=1)\n",
    "y = data['Class']\n",
    "\n",
    "# 分层抽样保持类别比例\n",
    "X_train, X_test, y_train, y_test = train_test_split(\n",
    "    X, y, test_size=0.2, stratify=y, random_state=42\n",
    ")\n",
    "print(\"====================4.2 保存数据集\")\n",
    "# 保存为CSV或Pickle\n",
    "X_train.to_csv('train_features.csv', index=False)\n",
    "y_train.to_csv('train_labels.csv', index=False)\n",
    "X_test.to_csv('test_features.csv', index=False)\n",
    "y_test.to_csv('test_labels.csv', index=False)\n",
    "\n",
    "print(\"====================5. 验证数据集质量\")\n",
    "print(\"====================5.1 可视化特征分布\")\n",
    "import seaborn as sns\n",
    "import matplotlib.pyplot as plt\n",
    "from sklearn.tree import DecisionTreeRegressor\n",
    "# 绘制正常与异常交易的金额分布对比\n",
    "# rug ： 在轴上显示数据点分布（需配合kde使用）\n",
    "# cumulative ： 是否绘制累积分布图\t\n",
    "# binwidth ： 单独指定柱宽而非数量\t\n",
    "\n",
    "# 训练决策树模型（通过max_depth控制分箱数量）\n",
    "regressor = DecisionTreeRegressor(max_depth=13, min_samples_split=85 , min_samples_leaf=15)\n",
    "# 生成示例数据（假设X为特征，y为目标变量）\n",
    "regressor.fit(X, y)\n",
    "\n",
    "# 提取特征的分箱边界\n",
    "def get_tree_bins(model, feature_index=0):\n",
    "    tree = model.tree_\n",
    "    thresholds = tree.threshold[tree.feature == feature_index]\n",
    "    valid_thresholds = thresholds[thresholds != -2.0]  # 过滤无效节点\n",
    "    \n",
    "    # 添加数据最小最大值形成完整区间\n",
    "    min_val = X.iloc[:, feature_index].min()\n",
    "    max_val = X.iloc[:, feature_index].max()\n",
    "    bins = np.sort(np.concatenate([[min_val], valid_thresholds, [max_val]]))\n",
    "    \n",
    "    return np.unique(bins)  # 去重处理\n",
    "    \n",
    "# 获取分箱边界\n",
    "tmp_bins = get_tree_bins(regressor)  \n",
    "print(\"决策树分箱边界:\", tmp_bins)\n",
    "\n",
    "sns.histplot(data=data, \n",
    "             x='RecentTxCount',  # RecentTxCount：交易频率特征  ； Amount：金额\n",
    "             hue='Class',# 通过label区分正常/异常[1,2]\n",
    "             element='step',  # 柱形样式（bars：默认、step：阶梯状、poly：多边形）\n",
    "             kde=False,  #启用核密度估计，直观展示概率密度 \n",
    "             bins=tmp_bins,#控制分箱数量，建议根据数据量调整（默认自动计算）。数字越大粒度越小\n",
    "             stat='probability', #统计量类型（count:默认、density:归一化、probability:概率 , percent:报告的可读性）\n",
    "             palette=[\"skyblue\", \"red\"]  ) #自定义颜色\n",
    "plt.title('Normal vs Fraud Transaction Amount')\n",
    "plt.show()\n",
    "\n",
    "print(\"====================5.2 特征相关性分析\")\n",
    "# 计算特征相关性矩阵\n",
    "corr_matrix = data.corr()\n",
    "# 绘制热力图\n",
    "plt.figure(figsize=(12, 8))\n",
    "sns.heatmap(corr_matrix, cmap='coolwarm', annot=False)\n",
    "plt.title('Feature Correlation Matrix')\n",
    "plt.show()\n",
    "\n"
   ]
  },
  {
   "cell_type": "code",
   "execution_count": 3,
   "id": "d0c1f71f",
   "metadata": {
    "execution": {
     "iopub.execute_input": "2025-03-31T02:06:07.086268Z",
     "iopub.status.busy": "2025-03-31T02:06:07.085723Z",
     "iopub.status.idle": "2025-03-31T02:06:07.106979Z",
     "shell.execute_reply": "2025-03-31T02:06:07.105782Z"
    },
    "jupyter": {
     "source_hidden": true
    },
    "papermill": {
     "duration": 0.032133,
     "end_time": "2025-03-31T02:06:07.109257",
     "exception": false,
     "start_time": "2025-03-31T02:06:07.077124",
     "status": "completed"
    },
    "tags": []
   },
   "outputs": [
    {
     "name": "stdout",
     "output_type": "stream",
     "text": [
      "         0   1      2\n",
      "0  xiaolei  20  10081\n",
      "1   xiaowu  30  10082\n",
      "          0   1      2\n",
      "0  xiaowang  22  10083\n",
      "1  xiaoming  25  10084\n",
      "          0   1      2\n",
      "0   xiaolei  20  10081\n",
      "1    xiaowu  30  10082\n",
      "0  xiaowang  22  10083\n",
      "1  xiaoming  25  10084\n",
      "         0   1      2         0   1      2\n",
      "0  xiaolei  20  10081  xiaowang  22  10083\n",
      "1   xiaowu  30  10082  xiaoming  25  10084\n"
     ]
    }
   ],
   "source": [
    "# Test 1\n",
    "# import os\n",
    "\n",
    "# # 检查文件路径\n",
    "# file_path = \"/kaggle/input/functions/FileObject.py\"\n",
    "# if os.path.exists(file_path):\n",
    "#     print(\"文件存在！\")\n",
    "# else:\n",
    "#     print(\"文件不存在，请检查数据集上传路径。\")\n",
    "    \n",
    "# Test 2\n",
    "import pandas as pd\n",
    "\n",
    "d1 = [[\"xiaolei\", 20, 10081], [\"xiaowu\", 30, 10082]]\n",
    "t1 = pd.DataFrame(d1)\n",
    "print(t1)\n",
    "\n",
    "d2 = [[\"xiaowang\", 22, 10083], [\"xiaoming\", 25, 10084]]\n",
    "t2 = pd.DataFrame(d2)\n",
    "print(t2)\n",
    "\n",
    "# 默认是上下堆叠\n",
    "t = pd.concat([t1, t2])\n",
    "print(t)\n",
    "# 左右拼接\n",
    "t = pd.concat([t1, t2], axis=1)\n",
    "print(t)\n"
   ]
  },
  {
   "cell_type": "markdown",
   "id": "385d6c92",
   "metadata": {
    "jupyter": {
     "source_hidden": true
    },
    "papermill": {
     "duration": 0.007446,
     "end_time": "2025-03-31T02:06:07.124670",
     "exception": false,
     "start_time": "2025-03-31T02:06:07.117224",
     "status": "completed"
    },
    "tags": []
   },
   "source": [
    "**原版SMOTE的局限性**\n",
    "\n",
    "* 噪声敏感：若少数类样本本身存在异常值，生成的合成样本可能引入噪声。\n",
    "* 边界模糊：在多数类与少数类交界区域生成样本，可能造成分类边界错误。\n",
    "\n",
    "\n",
    "**改良算法**\n",
    "\n",
    "* Borderline SMOTE\n",
    "1. 原理：仅对边界样本（同时被多数类和少数类近邻包围的样本）生成合成样本，避免噪声干扰。\n",
    "2. 适用场景：医学影像分类、**金融反欺诈**中的临界样本处理。\n",
    "* ADASYN（Adaptive Synthetic Sampling）​\n",
    "1. 原理：根据样本邻域中多数类的密度生成合成样本，密度越高生成越多，解决类别不平衡中的“硬”边界问题。\n",
    "2. 适用场景：高维数据（如基因表达数据）、复杂分布的非平衡数据。"
   ]
  },
  {
   "cell_type": "code",
   "execution_count": 4,
   "id": "f241fb07",
   "metadata": {
    "execution": {
     "iopub.execute_input": "2025-03-31T02:06:07.141376Z",
     "iopub.status.busy": "2025-03-31T02:06:07.141039Z",
     "iopub.status.idle": "2025-03-31T02:06:07.145238Z",
     "shell.execute_reply": "2025-03-31T02:06:07.144040Z"
    },
    "jupyter": {
     "source_hidden": true
    },
    "papermill": {
     "duration": 0.014861,
     "end_time": "2025-03-31T02:06:07.147204",
     "exception": false,
     "start_time": "2025-03-31T02:06:07.132343",
     "status": "completed"
    },
    "tags": []
   },
   "outputs": [],
   "source": [
    "# SMOTE + Tomek Links\n",
    "# ​流程：\n",
    "#   使用SMOTE生成合成样本；\n",
    "#   通过Tomek Links移除多数类与少数类邻域重叠的噪声点，清晰分类边界。\n",
    "# ​优势：\n",
    "#   减少过采样引入的噪声，提升模型泛化能力。\n",
    "# from imblearn.combine import SMOTETomek\n",
    "# smote_tomek = SMOTETomek(random_state=42)\n",
    "# X_resampled, y_resampled = smote_tomek.fit_resample(X, y)"
   ]
  },
  {
   "cell_type": "code",
   "execution_count": 5,
   "id": "55555e81",
   "metadata": {
    "execution": {
     "iopub.execute_input": "2025-03-31T02:06:07.164040Z",
     "iopub.status.busy": "2025-03-31T02:06:07.163643Z",
     "iopub.status.idle": "2025-03-31T02:06:07.167889Z",
     "shell.execute_reply": "2025-03-31T02:06:07.166735Z"
    },
    "jupyter": {
     "source_hidden": true
    },
    "papermill": {
     "duration": 0.014403,
     "end_time": "2025-03-31T02:06:07.169523",
     "exception": false,
     "start_time": "2025-03-31T02:06:07.155120",
     "status": "completed"
    },
    "tags": []
   },
   "outputs": [],
   "source": [
    "# 组合采样（SMOTEENN）​\n",
    "# ​流程：\n",
    "#   使用SMOTE生成合成样本；\n",
    "#   通过ENN（Edited Nearest Neighbours）移除多数类噪声点。\n",
    "# ​优势：\n",
    "#   同时处理过采样和欠采样，简化流程\n",
    "# from imblearn.combine import SMOTEENN\n",
    "# smote_enn = SMOTEENN(random_state=42)\n",
    "# X_resampled, y_resampled = smote_enn.fit_resample(X, y)"
   ]
  },
  {
   "cell_type": "code",
   "execution_count": 6,
   "id": "a4959d7f",
   "metadata": {
    "execution": {
     "iopub.execute_input": "2025-03-31T02:06:07.186297Z",
     "iopub.status.busy": "2025-03-31T02:06:07.185941Z",
     "iopub.status.idle": "2025-03-31T02:06:07.190013Z",
     "shell.execute_reply": "2025-03-31T02:06:07.188973Z"
    },
    "jupyter": {
     "source_hidden": true
    },
    "papermill": {
     "duration": 0.014622,
     "end_time": "2025-03-31T02:06:07.191958",
     "exception": false,
     "start_time": "2025-03-31T02:06:07.177336",
     "status": "completed"
    },
    "tags": []
   },
   "outputs": [],
   "source": [
    "# SMOTE + ADASYN\n",
    "# ​流程：\n",
    "#   使用ADASYN生成合成样本（基于邻域密度）；\n",
    "#   结合SMOTE进一步补充样本多样性。\n",
    "# ​优势：\n",
    "#   自适应生成样本，适用于高维、非线性可分数据。\n",
    "# from imblearn.combine import SMOTEENN\n",
    "# smote_enn = SMOTEENN(random_state=42)\n",
    "# X_resampled, y_resampled = smote_enn.fit_resample(X, y)"
   ]
  },
  {
   "cell_type": "markdown",
   "id": "d1fb0043",
   "metadata": {
    "papermill": {
     "duration": 0.007581,
     "end_time": "2025-03-31T02:06:07.208087",
     "exception": false,
     "start_time": "2025-03-31T02:06:07.200506",
     "status": "completed"
    },
    "tags": []
   },
   "source": [
    "* 方差     是各数据偏离平均值 差值的平方和 的平均数\n",
    "* 标准差   是方差的平方根\n",
    "* 均方误差（MSE）是各数据偏离真实值 差值的平方和 的平均数"
   ]
  },
  {
   "cell_type": "code",
   "execution_count": 7,
   "id": "80129d29",
   "metadata": {
    "execution": {
     "iopub.execute_input": "2025-03-31T02:06:07.224956Z",
     "iopub.status.busy": "2025-03-31T02:06:07.224527Z",
     "iopub.status.idle": "2025-03-31T02:06:07.233331Z",
     "shell.execute_reply": "2025-03-31T02:06:07.232182Z"
    },
    "jupyter": {
     "source_hidden": true
    },
    "papermill": {
     "duration": 0.019299,
     "end_time": "2025-03-31T02:06:07.235045",
     "exception": false,
     "start_time": "2025-03-31T02:06:07.215746",
     "status": "completed"
    },
    "tags": []
   },
   "outputs": [
    {
     "name": "stdout",
     "output_type": "stream",
     "text": [
      "矩阵初值为：[[ 1.5 -1.   2. ]\n",
      " [ 2.   0.   0. ]]\n",
      "该矩阵的均值为：[ 1.75 -0.5   1.  ]\n",
      " 该矩阵的标准差为：[0.25 0.5  1.  ]\n",
      "标准差标准化的矩阵为：[[-1. -1.  1.]\n",
      " [ 1.  1. -1.]]\n"
     ]
    }
   ],
   "source": [
    "# StandardScaler原理\n",
    "from sklearn.preprocessing import StandardScaler  # 标准化工具\n",
    "import numpy as np\n",
    " \n",
    "x_np = np.array([[1.5, -1., 2.],\n",
    "                [2., 0., 0.]])\n",
    "scaler = StandardScaler()\n",
    "x_train = scaler.fit_transform(x_np)\n",
    "print('矩阵初值为：{}'.format(x_np))\n",
    "print('该矩阵的均值为：{}\\n 该矩阵的标准差为：{}'.format(scaler.mean_,np.sqrt(scaler.var_)))\n",
    "print('标准差标准化的矩阵为：{}'.format(x_train))\n",
    "\n",
    "\n"
   ]
  },
  {
   "cell_type": "code",
   "execution_count": 8,
   "id": "d705e7f6",
   "metadata": {
    "execution": {
     "iopub.execute_input": "2025-03-31T02:06:07.252531Z",
     "iopub.status.busy": "2025-03-31T02:06:07.252116Z",
     "iopub.status.idle": "2025-03-31T02:06:07.262848Z",
     "shell.execute_reply": "2025-03-31T02:06:07.261656Z"
    },
    "jupyter": {
     "source_hidden": true
    },
    "papermill": {
     "duration": 0.021449,
     "end_time": "2025-03-31T02:06:07.264560",
     "exception": false,
     "start_time": "2025-03-31T02:06:07.243111",
     "status": "completed"
    },
    "tags": []
   },
   "outputs": [
    {
     "name": "stdout",
     "output_type": "stream",
     "text": [
      "使用 fit_transform 方法标准化的结果：\n",
      " [[-1.22474487 -1.22474487]\n",
      " [ 0.          0.        ]\n",
      " [ 1.22474487  1.22474487]]\n",
      "使用 fit 和 transform 方法标准化的结果：\n",
      " [[-1.22474487 -1.22474487]\n",
      " [ 0.          0.        ]\n",
      " [ 1.22474487  1.22474487]]\n"
     ]
    }
   ],
   "source": [
    "from sklearn.preprocessing import StandardScaler\n",
    "import numpy as np\n",
    "\n",
    "# 创建一个 3 x 2 的矩阵\n",
    "X = np.array([[1, 2], [3, 4], [5, 6]])\n",
    "\n",
    "# 使用 fit_transform 方法标准化数据\n",
    "scaler = StandardScaler()\n",
    "X_scaled1 = scaler.fit_transform(X)\n",
    "\n",
    "# 使用 fit 和 transform 方法标准化数据\n",
    "scaler = StandardScaler()\n",
    "scaler.fit(X)\n",
    "X_scaled2 = scaler.transform(X)\n",
    "\n",
    "# 打印结果\n",
    "print(\"使用 fit_transform 方法标准化的结果：\\n\", X_scaled1)\n",
    "print(\"使用 fit 和 transform 方法标准化的结果：\\n\", X_scaled2)"
   ]
  },
  {
   "cell_type": "code",
   "execution_count": 9,
   "id": "6ca58339",
   "metadata": {
    "execution": {
     "iopub.execute_input": "2025-03-31T02:06:07.281837Z",
     "iopub.status.busy": "2025-03-31T02:06:07.281418Z",
     "iopub.status.idle": "2025-03-31T02:06:07.291935Z",
     "shell.execute_reply": "2025-03-31T02:06:07.290746Z"
    },
    "jupyter": {
     "source_hidden": true
    },
    "papermill": {
     "duration": 0.021048,
     "end_time": "2025-03-31T02:06:07.293742",
     "exception": false,
     "start_time": "2025-03-31T02:06:07.272694",
     "status": "completed"
    },
    "tags": []
   },
   "outputs": [
    {
     "name": "stdout",
     "output_type": "stream",
     "text": [
      "原始数据：\n",
      " [[1 2]\n",
      " [3 4]\n",
      " [5 6]]\n",
      "均值： [3. 4.]\n",
      "标准差： [1.63299316 1.63299316]\n",
      "标准化后的数据：\n",
      " [[-1.22474487 -1.22474487]\n",
      " [ 0.          0.        ]\n",
      " [ 1.22474487  1.22474487]]\n"
     ]
    }
   ],
   "source": [
    "from sklearn.preprocessing import StandardScaler\n",
    "import numpy as np\n",
    "\n",
    "# 创建一个 3 x 2 的矩阵\n",
    "X = np.array([[1, 2], [3, 4], [5, 6]])\n",
    "\n",
    "# 创建 StandardScaler 对象\n",
    "scaler = StandardScaler()\n",
    "\n",
    "# 计算均值和标准差\n",
    "scaler.fit(X)\n",
    "\n",
    "# 将数据标准化为标准正态分布\n",
    "X_scaled = scaler.transform(X)\n",
    "\n",
    "# 打印结果\n",
    "print(\"原始数据：\\n\", X)\n",
    "print(\"均值：\", scaler.mean_)\n",
    "print(\"标准差：\", scaler.scale_)\n",
    "print(\"标准化后的数据：\\n\", X_scaled)"
   ]
  },
  {
   "cell_type": "code",
   "execution_count": 10,
   "id": "ae829c2d",
   "metadata": {
    "execution": {
     "iopub.execute_input": "2025-03-31T02:06:07.312145Z",
     "iopub.status.busy": "2025-03-31T02:06:07.311690Z",
     "iopub.status.idle": "2025-03-31T02:06:07.322621Z",
     "shell.execute_reply": "2025-03-31T02:06:07.321014Z"
    },
    "jupyter": {
     "source_hidden": true
    },
    "papermill": {
     "duration": 0.022662,
     "end_time": "2025-03-31T02:06:07.324659",
     "exception": false,
     "start_time": "2025-03-31T02:06:07.301997",
     "status": "completed"
    },
    "tags": []
   },
   "outputs": [
    {
     "name": "stdout",
     "output_type": "stream",
     "text": [
      "   Weight    Name  Age\n",
      "0      45     Sam   14\n",
      "1      88  Andrea   25\n",
      "2      56    Alex   55\n",
      "3      15   Robin    8\n",
      "4      71     Kia   21\n",
      "[[45 'Sam' 14]\n",
      " [88 'Andrea' 25]\n",
      " [56 'Alex' 55]\n",
      " [15 'Robin' 8]\n",
      " [71 'Kia' 21]]\n",
      "5\n",
      "3\n"
     ]
    }
   ],
   "source": [
    "import pandas as pd\n",
    "\n",
    "# 创建一个DataFrame\n",
    "df = pd.DataFrame({\n",
    "'Weight': [45, 88, 56, 15, 71],\n",
    "'Name': ['Sam', 'Andrea', 'Alex', 'Robin', 'Kia'],\n",
    "'Age': [14, 25, 55, 8, 21]\n",
    "})\n",
    "print(df)\n",
    "# 使用.values属性获取NumPy数组\n",
    "data_array = df.values\n",
    "\n",
    "# 输出NumPy数组\n",
    "print(data_array)\n",
    "\n",
    "# 输出NumPy数组 行 +列\n",
    "print(len(data_array))\n",
    "print(len(data_array[0]))"
   ]
  },
  {
   "cell_type": "code",
   "execution_count": 11,
   "id": "99fc80ea",
   "metadata": {
    "execution": {
     "iopub.execute_input": "2025-03-31T02:06:07.343136Z",
     "iopub.status.busy": "2025-03-31T02:06:07.342710Z",
     "iopub.status.idle": "2025-03-31T02:06:07.360794Z",
     "shell.execute_reply": "2025-03-31T02:06:07.359602Z"
    },
    "jupyter": {
     "source_hidden": true
    },
    "papermill": {
     "duration": 0.0293,
     "end_time": "2025-03-31T02:06:07.362560",
     "exception": false,
     "start_time": "2025-03-31T02:06:07.333260",
     "status": "completed"
    },
    "tags": []
   },
   "outputs": [
    {
     "name": "stdout",
     "output_type": "stream",
     "text": [
      "    A   B\n",
      "0  11  20\n",
      "1  12  30\n",
      "2  13  40\n",
      "  Group  Value  Group_Mean\n",
      "0     A      1         2.0\n",
      "1     A      2         2.0\n",
      "2     A      3         2.0\n",
      "3     B      4         5.0\n",
      "4     B      5         5.0\n",
      "5     B      6         5.0\n"
     ]
    }
   ],
   "source": [
    "#DataFrame.transform\n",
    "import pandas as pd\n",
    "\n",
    "# ​1. 按列进行特征工程\n",
    "\n",
    "# 创建示例数据\n",
    "df = pd.DataFrame({\n",
    "    'A': [1, 2, 3],\n",
    "    'B': [10, 20, 30]\n",
    "})\n",
    "\n",
    "# 定义函数：将每列乘以 100\n",
    "def multiply_by_100(col):\n",
    "    return col + 10\n",
    "\n",
    "# 对每列应用函数\n",
    "df_transformed = df.transform(multiply_by_100)\n",
    "print(df_transformed)\n",
    "\n",
    "# # ​2. 生成新特征（基于多列计算）​\n",
    "\n",
    "# # 创建新列 \"C\" = A + B\n",
    "# df['C'] = df.import pandas as pd\n",
    "\n",
    "# # 创建示例数据\n",
    "# df = pd.DataFrame({\n",
    "#     'Category': ['A', 'A', 'B', 'B', 'C', 'C'],\n",
    "#     'Value': [10, 20, 30, 40, 50, 60]\n",
    "# })\n",
    "\n",
    "# # 使用 lambda 按列生成新特征（例如：分类标签编码）\n",
    "# df['Encoded_Category'] = df['Category'].transform(\n",
    "#     lambda x: {'A': 0, 'B': 1, 'C': 2}[x]\n",
    "# )\n",
    "\n",
    "# print(df)(lambda x:x['A']+x['B'], axis=0)\n",
    "\n",
    "# print(df['C'] )\n",
    "# sys.exit()\n",
    "# # ​3. 标准化数据（Z-Score）\n",
    "# from sklearn.preprocessing import StandardScaler\n",
    "\n",
    "# # 对数值列标准化\n",
    "# df[['A', 'B']] = df[['A', 'B']].transform(\n",
    "#     lambda x: (x - x.mean()) / x.std(),\n",
    "#     axis=0\n",
    "# )\n",
    "\n",
    "# ​4. 分组聚合（GroupBy + Transform）​\n",
    "\n",
    "# 按某列分组，计算每组的统计量（如均值、中位数）\n",
    "df = pd.DataFrame({\n",
    "    'Group': ['A', 'A', 'A', 'B', 'B', 'B'],\n",
    "    'Value': [1, 2, 3, 4, 5, 6]\n",
    "})\n",
    "\n",
    "# 计算每组内的均值并填充到原数据\n",
    "df['Group_Mean'] = df.groupby('Group')['Value'].transform('mean')   # 优先使用python内置函数 mean()、std()\n",
    "print(df)"
   ]
  },
  {
   "cell_type": "code",
   "execution_count": 12,
   "id": "017800d6",
   "metadata": {
    "execution": {
     "iopub.execute_input": "2025-03-31T02:06:07.380699Z",
     "iopub.status.busy": "2025-03-31T02:06:07.380307Z",
     "iopub.status.idle": "2025-03-31T02:06:07.388178Z",
     "shell.execute_reply": "2025-03-31T02:06:07.387062Z"
    },
    "jupyter": {
     "source_hidden": true
    },
    "papermill": {
     "duration": 0.018841,
     "end_time": "2025-03-31T02:06:07.389911",
     "exception": false,
     "start_time": "2025-03-31T02:06:07.371070",
     "status": "completed"
    },
    "tags": []
   },
   "outputs": [
    {
     "name": "stdout",
     "output_type": "stream",
     "text": [
      "   A  B\n",
      "0  1  4\n",
      "1  2  5\n",
      "2  3  6\n"
     ]
    }
   ],
   "source": [
    "import pandas as pd\n",
    "\n",
    "# 测试数据\n",
    "df = pd.DataFrame({'A': [1, 2, 3], 'B': [4, 5, 6]})\n",
    "def complex_func(x):\n",
    "    x['C'] = x['A'] + x['B']\n",
    "    return x['C']  # 返回 Series，但索引可能错乱\n",
    "    \n",
    "\n",
    "# df['C'] = df.transform(lambda x:x['A']+x['B'] if x['A'] % 2 == 1 else x['A'] * x['B'] )\n",
    "print(df)\n"
   ]
  },
  {
   "cell_type": "code",
   "execution_count": 13,
   "id": "7235dcb5",
   "metadata": {
    "execution": {
     "iopub.execute_input": "2025-03-31T02:06:07.408003Z",
     "iopub.status.busy": "2025-03-31T02:06:07.407651Z",
     "iopub.status.idle": "2025-03-31T02:06:07.753531Z",
     "shell.execute_reply": "2025-03-31T02:06:07.752233Z"
    },
    "jupyter": {
     "source_hidden": true
    },
    "papermill": {
     "duration": 0.35724,
     "end_time": "2025-03-31T02:06:07.755544",
     "exception": false,
     "start_time": "2025-03-31T02:06:07.398304",
     "status": "completed"
    },
    "tags": []
   },
   "outputs": [
    {
     "name": "stdout",
     "output_type": "stream",
     "text": [
      "[2.]\n"
     ]
    },
    {
     "name": "stderr",
     "output_type": "stream",
     "text": [
      "/usr/local/lib/python3.10/dist-packages/seaborn/_oldcore.py:1119: FutureWarning: use_inf_as_na option is deprecated and will be removed in a future version. Convert inf values to NaN before operating instead.\n",
      "  with pd.option_context('mode.use_inf_as_na', True):\n",
      "/usr/local/lib/python3.10/dist-packages/IPython/core/pylabtools.py:151: UserWarning: Glyph 25968 (\\N{CJK UNIFIED IDEOGRAPH-6570}) missing from current font.\n",
      "  fig.canvas.print_figure(bytes_io, **kw)\n",
      "/usr/local/lib/python3.10/dist-packages/IPython/core/pylabtools.py:151: UserWarning: Glyph 25454 (\\N{CJK UNIFIED IDEOGRAPH-636E}) missing from current font.\n",
      "  fig.canvas.print_figure(bytes_io, **kw)\n",
      "/usr/local/lib/python3.10/dist-packages/IPython/core/pylabtools.py:151: UserWarning: Glyph 20998 (\\N{CJK UNIFIED IDEOGRAPH-5206}) missing from current font.\n",
      "  fig.canvas.print_figure(bytes_io, **kw)\n",
      "/usr/local/lib/python3.10/dist-packages/IPython/core/pylabtools.py:151: UserWarning: Glyph 24067 (\\N{CJK UNIFIED IDEOGRAPH-5E03}) missing from current font.\n",
      "  fig.canvas.print_figure(bytes_io, **kw)\n",
      "/usr/local/lib/python3.10/dist-packages/IPython/core/pylabtools.py:151: UserWarning: Glyph 22270 (\\N{CJK UNIFIED IDEOGRAPH-56FE}) missing from current font.\n",
      "  fig.canvas.print_figure(bytes_io, **kw)\n"
     ]
    },
    {
     "data": {
      "image/png": "[encoded data removed]",
      "text/plain": [
       "<Figure size 500x500 with 1 Axes>"
      ]
     },
     "metadata": {},
     "output_type": "display_data"
    }
   ],
   "source": [
    "import numpy as np \n",
    "import pandas as pd \n",
    "import seaborn as sns\n",
    "import matplotlib.pyplot as plt\n",
    "\n",
    "data = np.random.normal(0,  #loc：分布的均值，也就是分布的中心位置。\n",
    "                        3,  #scale：分布的标准差，决定了分布的宽度，标准差越大，分布越分散。\n",
    "                        100) #size：输出的形状，可以是单个数字表示输出随机数的数量，也可以是一个元组表示多维数组的形状。\n",
    "\n",
    "# 画分布图\n",
    "_bins=np.logspace(1, 8, 1,base=2)\n",
    "print(_bins)\n",
    "sns.displot(data,\n",
    "            # bins=50,\n",
    "            kde=True)\n",
    "plt.title(\"数据分布图\")\n",
    "\n",
    "plt.show()"
   ]
  },
  {
   "cell_type": "code",
   "execution_count": 14,
   "id": "e0f98497",
   "metadata": {
    "execution": {
     "iopub.execute_input": "2025-03-31T02:06:07.780997Z",
     "iopub.status.busy": "2025-03-31T02:06:07.780623Z",
     "iopub.status.idle": "2025-03-31T02:06:08.043135Z",
     "shell.execute_reply": "2025-03-31T02:06:08.041981Z"
    },
    "jupyter": {
     "source_hidden": true
    },
    "papermill": {
     "duration": 0.279673,
     "end_time": "2025-03-31T02:06:08.045315",
     "exception": false,
     "start_time": "2025-03-31T02:06:07.765642",
     "status": "completed"
    },
    "tags": []
   },
   "outputs": [
    {
     "name": "stdout",
     "output_type": "stream",
     "text": [
      "          amount label\n",
      "0      35.352651    正常\n",
      "1      97.831228    正常\n",
      "2      97.658147    正常\n",
      "3      74.270975    正常\n",
      "4     121.227320    正常\n",
      "...          ...   ...\n",
      "1045  543.645598    异常\n",
      "1046  428.612433    异常\n",
      "1047  428.128920    异常\n",
      "1048  519.338346    异常\n",
      "1049  557.983280    异常\n",
      "\n",
      "[1050 rows x 2 columns]\n"
     ]
    },
    {
     "name": "stderr",
     "output_type": "stream",
     "text": [
      "/usr/local/lib/python3.10/dist-packages/seaborn/_oldcore.py:1119: FutureWarning: use_inf_as_na option is deprecated and will be removed in a future version. Convert inf values to NaN before operating instead.\n",
      "  with pd.option_context('mode.use_inf_as_na', True):\n",
      "/usr/local/lib/python3.10/dist-packages/seaborn/_oldcore.py:1075: FutureWarning: When grouping with a length-1 list-like, you will need to pass a length-1 tuple to get_group in a future version of pandas. Pass `(name,)` instead of `name` to silence this warning.\n",
      "  data_subset = grouped_data.get_group(pd_key)\n",
      "/usr/local/lib/python3.10/dist-packages/seaborn/_oldcore.py:1075: FutureWarning: When grouping with a length-1 list-like, you will need to pass a length-1 tuple to get_group in a future version of pandas. Pass `(name,)` instead of `name` to silence this warning.\n",
      "  data_subset = grouped_data.get_group(pd_key)\n",
      "/usr/local/lib/python3.10/dist-packages/seaborn/_oldcore.py:1075: FutureWarning: When grouping with a length-1 list-like, you will need to pass a length-1 tuple to get_group in a future version of pandas. Pass `(name,)` instead of `name` to silence this warning.\n",
      "  data_subset = grouped_data.get_group(pd_key)\n",
      "/usr/local/lib/python3.10/dist-packages/seaborn/_oldcore.py:1075: FutureWarning: When grouping with a length-1 list-like, you will need to pass a length-1 tuple to get_group in a future version of pandas. Pass `(name,)` instead of `name` to silence this warning.\n",
      "  data_subset = grouped_data.get_group(pd_key)\n",
      "/usr/local/lib/python3.10/dist-packages/IPython/core/pylabtools.py:151: UserWarning: Glyph 27491 (\\N{CJK UNIFIED IDEOGRAPH-6B63}) missing from current font.\n",
      "  fig.canvas.print_figure(bytes_io, **kw)\n",
      "/usr/local/lib/python3.10/dist-packages/IPython/core/pylabtools.py:151: UserWarning: Glyph 24120 (\\N{CJK UNIFIED IDEOGRAPH-5E38}) missing from current font.\n",
      "  fig.canvas.print_figure(bytes_io, **kw)\n",
      "/usr/local/lib/python3.10/dist-packages/IPython/core/pylabtools.py:151: UserWarning: Glyph 24322 (\\N{CJK UNIFIED IDEOGRAPH-5F02}) missing from current font.\n",
      "  fig.canvas.print_figure(bytes_io, **kw)\n",
      "/usr/local/lib/python3.10/dist-packages/IPython/core/pylabtools.py:151: UserWarning: Glyph 20132 (\\N{CJK UNIFIED IDEOGRAPH-4EA4}) missing from current font.\n",
      "  fig.canvas.print_figure(bytes_io, **kw)\n",
      "/usr/local/lib/python3.10/dist-packages/IPython/core/pylabtools.py:151: UserWarning: Glyph 26131 (\\N{CJK UNIFIED IDEOGRAPH-6613}) missing from current font.\n",
      "  fig.canvas.print_figure(bytes_io, **kw)\n",
      "/usr/local/lib/python3.10/dist-packages/IPython/core/pylabtools.py:151: UserWarning: Glyph 37329 (\\N{CJK UNIFIED IDEOGRAPH-91D1}) missing from current font.\n",
      "  fig.canvas.print_figure(bytes_io, **kw)\n",
      "/usr/local/lib/python3.10/dist-packages/IPython/core/pylabtools.py:151: UserWarning: Glyph 39069 (\\N{CJK UNIFIED IDEOGRAPH-989D}) missing from current font.\n",
      "  fig.canvas.print_figure(bytes_io, **kw)\n",
      "/usr/local/lib/python3.10/dist-packages/IPython/core/pylabtools.py:151: UserWarning: Glyph 20998 (\\N{CJK UNIFIED IDEOGRAPH-5206}) missing from current font.\n",
      "  fig.canvas.print_figure(bytes_io, **kw)\n",
      "/usr/local/lib/python3.10/dist-packages/IPython/core/pylabtools.py:151: UserWarning: Glyph 24067 (\\N{CJK UNIFIED IDEOGRAPH-5E03}) missing from current font.\n",
      "  fig.canvas.print_figure(bytes_io, **kw)\n",
      "/usr/local/lib/python3.10/dist-packages/IPython/core/pylabtools.py:151: UserWarning: Glyph 26512 (\\N{CJK UNIFIED IDEOGRAPH-6790}) missing from current font.\n",
      "  fig.canvas.print_figure(bytes_io, **kw)\n"
     ]
    },
    {
     "data": {
      "image/png": "[encoded data removed]",
      "text/plain": [
       "<Figure size 640x480 with 1 Axes>"
      ]
     },
     "metadata": {},
     "output_type": "display_data"
    }
   ],
   "source": [
    "# 加载示例数据\n",
    "df = pd.DataFrame({\n",
    "    \"amount\": np.concatenate([np.random.normal(100, 20, 1000), np.random.normal(500, 50, 50)]),\n",
    "    \"label\": [\"正常\"]*1000 + [\"异常\"]*50\n",
    "})\n",
    "print(df)\n",
    "# 绘制组合图表\n",
    "sns.histplot(data=df, x=\"amount\", hue=\"label\", kde=True, element=\"step\", palette=[\"skyblue\", \"red\"])\n",
    "sns.boxplot(data=df, x=\"label\", y=\"amount\", showfliers=False, palette=[\"lightgreen\", \"orange\"])\n",
    "plt.subplots_adjust(wspace=0.3)\n",
    "plt.suptitle(\"交易金额分布分析\")\n",
    "plt.show()"
   ]
  },
  {
   "cell_type": "code",
   "execution_count": 15,
   "id": "c161ab5c",
   "metadata": {
    "execution": {
     "iopub.execute_input": "2025-03-31T02:06:08.072522Z",
     "iopub.status.busy": "2025-03-31T02:06:08.072048Z",
     "iopub.status.idle": "2025-03-31T02:06:08.253272Z",
     "shell.execute_reply": "2025-03-31T02:06:08.252048Z"
    },
    "jupyter": {
     "source_hidden": true
    },
    "papermill": {
     "duration": 0.194535,
     "end_time": "2025-03-31T02:06:08.255353",
     "exception": false,
     "start_time": "2025-03-31T02:06:08.060818",
     "status": "completed"
    },
    "tags": []
   },
   "outputs": [
    {
     "data": {
      "image/png": "[encoded data removed]",
      "text/plain": [
       "<Figure size 640x480 with 1 Axes>"
      ]
     },
     "metadata": {},
     "output_type": "display_data"
    }
   ],
   "source": [
    "import numpy as np\n",
    "import matplotlib.pyplot as plt\n",
    "\n",
    "x = np.linspace(1, 5,10) #创建一个包含10个元素的数组，这些元素均匀分布在1到5之间\n",
    "y = np.logspace(1, 5,10,base=3) #创建一个包含10个元素的数组，这些元素均匀分布在2^1到2^5之间\n",
    "\n",
    "plt.plot(x, y)\n",
    "plt.show()"
   ]
  },
  {
   "cell_type": "code",
   "execution_count": 16,
   "id": "7973c41f",
   "metadata": {
    "execution": {
     "iopub.execute_input": "2025-03-31T02:06:08.283673Z",
     "iopub.status.busy": "2025-03-31T02:06:08.283182Z",
     "iopub.status.idle": "2025-03-31T02:06:08.669525Z",
     "shell.execute_reply": "2025-03-31T02:06:08.667849Z"
    },
    "jupyter": {
     "source_hidden": true
    },
    "papermill": {
     "duration": 0.400397,
     "end_time": "2025-03-31T02:06:08.671949",
     "exception": false,
     "start_time": "2025-03-31T02:06:08.271552",
     "status": "completed"
    },
    "tags": []
   },
   "outputs": [
    {
     "name": "stdout",
     "output_type": "stream",
     "text": [
      "分箱边界: [17, 22.5, 29.5, 40.5, 49.5, 58.5, 70]\n"
     ]
    },
    {
     "name": "stderr",
     "output_type": "stream",
     "text": [
      "/usr/local/lib/python3.10/dist-packages/seaborn/_oldcore.py:1119: FutureWarning: use_inf_as_na option is deprecated and will be removed in a future version. Convert inf values to NaN before operating instead.\n",
      "  with pd.option_context('mode.use_inf_as_na', True):\n",
      "/usr/local/lib/python3.10/dist-packages/seaborn/_oldcore.py:1057: FutureWarning: The default of observed=False is deprecated and will be changed to True in a future version of pandas. Pass observed=False to retain current behavior or observed=True to adopt the future default and silence this warning.\n",
      "  grouped_data = data.groupby(\n",
      "/usr/local/lib/python3.10/dist-packages/seaborn/_oldcore.py:1075: FutureWarning: When grouping with a length-1 list-like, you will need to pass a length-1 tuple to get_group in a future version of pandas. Pass `(name,)` instead of `name` to silence this warning.\n",
      "  data_subset = grouped_data.get_group(pd_key)\n",
      "/usr/local/lib/python3.10/dist-packages/seaborn/_oldcore.py:1075: FutureWarning: When grouping with a length-1 list-like, you will need to pass a length-1 tuple to get_group in a future version of pandas. Pass `(name,)` instead of `name` to silence this warning.\n",
      "  data_subset = grouped_data.get_group(pd_key)\n",
      "/usr/local/lib/python3.10/dist-packages/seaborn/_oldcore.py:1075: FutureWarning: When grouping with a length-1 list-like, you will need to pass a length-1 tuple to get_group in a future version of pandas. Pass `(name,)` instead of `name` to silence this warning.\n",
      "  data_subset = grouped_data.get_group(pd_key)\n",
      "/usr/local/lib/python3.10/dist-packages/seaborn/_oldcore.py:1075: FutureWarning: When grouping with a length-1 list-like, you will need to pass a length-1 tuple to get_group in a future version of pandas. Pass `(name,)` instead of `name` to silence this warning.\n",
      "  data_subset = grouped_data.get_group(pd_key)\n",
      "/usr/local/lib/python3.10/dist-packages/seaborn/_oldcore.py:1075: FutureWarning: When grouping with a length-1 list-like, you will need to pass a length-1 tuple to get_group in a future version of pandas. Pass `(name,)` instead of `name` to silence this warning.\n",
      "  data_subset = grouped_data.get_group(pd_key)\n",
      "/usr/local/lib/python3.10/dist-packages/seaborn/_oldcore.py:1075: FutureWarning: When grouping with a length-1 list-like, you will need to pass a length-1 tuple to get_group in a future version of pandas. Pass `(name,)` instead of `name` to silence this warning.\n",
      "  data_subset = grouped_data.get_group(pd_key)\n",
      "/usr/local/lib/python3.10/dist-packages/seaborn/_oldcore.py:1057: FutureWarning: The default of observed=False is deprecated and will be changed to True in a future version of pandas. Pass observed=False to retain current behavior or observed=True to adopt the future default and silence this warning.\n",
      "  grouped_data = data.groupby(\n",
      "/usr/local/lib/python3.10/dist-packages/seaborn/_oldcore.py:1075: FutureWarning: When grouping with a length-1 list-like, you will need to pass a length-1 tuple to get_group in a future version of pandas. Pass `(name,)` instead of `name` to silence this warning.\n",
      "  data_subset = grouped_data.get_group(pd_key)\n",
      "/usr/local/lib/python3.10/dist-packages/seaborn/_oldcore.py:1075: FutureWarning: When grouping with a length-1 list-like, you will need to pass a length-1 tuple to get_group in a future version of pandas. Pass `(name,)` instead of `name` to silence this warning.\n",
      "  data_subset = grouped_data.get_group(pd_key)\n",
      "/usr/local/lib/python3.10/dist-packages/seaborn/_oldcore.py:1075: FutureWarning: When grouping with a length-1 list-like, you will need to pass a length-1 tuple to get_group in a future version of pandas. Pass `(name,)` instead of `name` to silence this warning.\n",
      "  data_subset = grouped_data.get_group(pd_key)\n",
      "/usr/local/lib/python3.10/dist-packages/seaborn/_oldcore.py:1075: FutureWarning: When grouping with a length-1 list-like, you will need to pass a length-1 tuple to get_group in a future version of pandas. Pass `(name,)` instead of `name` to silence this warning.\n",
      "  data_subset = grouped_data.get_group(pd_key)\n",
      "/usr/local/lib/python3.10/dist-packages/seaborn/_oldcore.py:1075: FutureWarning: When grouping with a length-1 list-like, you will need to pass a length-1 tuple to get_group in a future version of pandas. Pass `(name,)` instead of `name` to silence this warning.\n",
      "  data_subset = grouped_data.get_group(pd_key)\n",
      "/usr/local/lib/python3.10/dist-packages/seaborn/_oldcore.py:1075: FutureWarning: When grouping with a length-1 list-like, you will need to pass a length-1 tuple to get_group in a future version of pandas. Pass `(name,)` instead of `name` to silence this warning.\n",
      "  data_subset = grouped_data.get_group(pd_key)\n",
      "/usr/local/lib/python3.10/dist-packages/IPython/core/pylabtools.py:151: UserWarning: Glyph 20915 (\\N{CJK UNIFIED IDEOGRAPH-51B3}) missing from current font.\n",
      "  fig.canvas.print_figure(bytes_io, **kw)\n",
      "/usr/local/lib/python3.10/dist-packages/IPython/core/pylabtools.py:151: UserWarning: Glyph 31574 (\\N{CJK UNIFIED IDEOGRAPH-7B56}) missing from current font.\n",
      "  fig.canvas.print_figure(bytes_io, **kw)\n",
      "/usr/local/lib/python3.10/dist-packages/IPython/core/pylabtools.py:151: UserWarning: Glyph 26641 (\\N{CJK UNIFIED IDEOGRAPH-6811}) missing from current font.\n",
      "  fig.canvas.print_figure(bytes_io, **kw)\n",
      "/usr/local/lib/python3.10/dist-packages/IPython/core/pylabtools.py:151: UserWarning: Glyph 20998 (\\N{CJK UNIFIED IDEOGRAPH-5206}) missing from current font.\n",
      "  fig.canvas.print_figure(bytes_io, **kw)\n",
      "/usr/local/lib/python3.10/dist-packages/IPython/core/pylabtools.py:151: UserWarning: Glyph 31665 (\\N{CJK UNIFIED IDEOGRAPH-7BB1}) missing from current font.\n",
      "  fig.canvas.print_figure(bytes_io, **kw)\n",
      "/usr/local/lib/python3.10/dist-packages/IPython/core/pylabtools.py:151: UserWarning: Glyph 20449 (\\N{CJK UNIFIED IDEOGRAPH-4FE1}) missing from current font.\n",
      "  fig.canvas.print_figure(bytes_io, **kw)\n",
      "/usr/local/lib/python3.10/dist-packages/IPython/core/pylabtools.py:151: UserWarning: Glyph 29992 (\\N{CJK UNIFIED IDEOGRAPH-7528}) missing from current font.\n",
      "  fig.canvas.print_figure(bytes_io, **kw)\n",
      "/usr/local/lib/python3.10/dist-packages/IPython/core/pylabtools.py:151: UserWarning: Glyph 35780 (\\N{CJK UNIFIED IDEOGRAPH-8BC4}) missing from current font.\n",
      "  fig.canvas.print_figure(bytes_io, **kw)\n",
      "/usr/local/lib/python3.10/dist-packages/IPython/core/pylabtools.py:151: UserWarning: Glyph 24067 (\\N{CJK UNIFIED IDEOGRAPH-5E03}) missing from current font.\n",
      "  fig.canvas.print_figure(bytes_io, **kw)\n",
      "/usr/local/lib/python3.10/dist-packages/IPython/core/pylabtools.py:151: UserWarning: Glyph 23545 (\\N{CJK UNIFIED IDEOGRAPH-5BF9}) missing from current font.\n",
      "  fig.canvas.print_figure(bytes_io, **kw)\n",
      "/usr/local/lib/python3.10/dist-packages/IPython/core/pylabtools.py:151: UserWarning: Glyph 27604 (\\N{CJK UNIFIED IDEOGRAPH-6BD4}) missing from current font.\n",
      "  fig.canvas.print_figure(bytes_io, **kw)\n"
     ]
    },
    {
     "data": {
      "image/png": "[encoded data removed]",
      "text/plain": [
       "<Figure size 640x480 with 1 Axes>"
      ]
     },
     "metadata": {},
     "output_type": "display_data"
    }
   ],
   "source": [
    "# 决策树分箱示例\n",
    "import numpy as np\n",
    "import pandas as pd\n",
    "import seaborn as sns\n",
    "from sklearn.tree import DecisionTreeRegressor\n",
    "\n",
    "# 生成模拟数据（客户年龄与信用评分）\n",
    "np.random.seed(42)\n",
    "age = np.random.randint(18, 70, 1000)\n",
    "score = np.where(age < 30, np.random.normal(500, 50, 1000),\n",
    "                np.where(age < 50, np.random.normal(700, 80, 1000),\n",
    "                        np.random.normal(600, 60, 1000)))\n",
    "df = pd.DataFrame({'age': age, 'score': score})\n",
    "\n",
    "# 决策树分箱（以age预测score）\n",
    "X = df[['age']]\n",
    "y = df['score']\n",
    "dt = DecisionTreeRegressor(max_depth=3, min_samples_leaf=0.1)\n",
    "dt.fit(X, y)\n",
    "\n",
    "# 提取决策树分裂阈值\n",
    "thresholds = np.sort(dt.tree_.threshold[dt.tree_.feature == 0])\n",
    "bins = [df['age'].min()-1] + thresholds.tolist() + [df['age'].max()+1]\n",
    "\n",
    "# 应用分箱\n",
    "df['age_bin'] = pd.cut(df['age'], bins=bins, precision=0)\n",
    "print(\"分箱边界:\", bins)\n",
    "\n",
    "# 可视化（带核密度曲线）\n",
    "sns.histplot(data=df, x='score', hue='age_bin', \n",
    "             #binwidth = 10,  #bins宽度\n",
    "            element='step', kde=True, palette='viridis',\n",
    "            stat='density', common_norm=False)\n",
    "plt.title('决策树分箱-信用评分分布对比')\n",
    "plt.show()"
   ]
  },
  {
   "cell_type": "code",
   "execution_count": 17,
   "id": "36ab3d3a",
   "metadata": {
    "execution": {
     "iopub.execute_input": "2025-03-31T02:06:08.699088Z",
     "iopub.status.busy": "2025-03-31T02:06:08.698592Z",
     "iopub.status.idle": "2025-03-31T02:06:08.703857Z",
     "shell.execute_reply": "2025-03-31T02:06:08.702758Z"
    },
    "jupyter": {
     "source_hidden": true
    },
    "papermill": {
     "duration": 0.021071,
     "end_time": "2025-03-31T02:06:08.705957",
     "exception": false,
     "start_time": "2025-03-31T02:06:08.684886",
     "status": "completed"
    },
    "tags": []
   },
   "outputs": [],
   "source": [
    "# #卡方分箱示例\n",
    "# import toad\n",
    "# from sklearn.datasets import load_breast_cancer\n",
    "# import seaborn as sns\n",
    "\n",
    "# # 加载乳腺癌数据集\n",
    "# data = load_breast_cancer()\n",
    "# df = pd.DataFrame(data.data, columns=data.feature_names)\n",
    "# df['target'] = data.target\n",
    "\n",
    "# # 卡方分箱（针对'mean radius'特征）\n",
    "# combiner = toad.transform.Combiner()\n",
    "# combiner.fit(df[['mean radius', 'target']], \n",
    "#             df['target'], method='chi', \n",
    "#             min_samples=0.2,  # 最小样本比例\n",
    "#             n_bins=5)         # 目标分箱数\n",
    "\n",
    "# # 转换分箱结果\n",
    "# df_trans = combiner.transform(df[['mean radius', 'target']])\n",
    "\n",
    "# # 可视化分箱分布\n",
    "# plt.figure(figsize=(12,6))\n",
    "# sns.boxplot(x='mean radius_bin', y='target', data=df_trans,\n",
    "#            palette='coolwarm', flierprops={'marker': 'x'})\n",
    "# plt.xticks(rotation=30)\n",
    "# plt.title('卡方分箱-肿瘤半径与恶性程度关系')\n",
    "# plt.show()\n",
    "\n",
    "# # 输出分箱统计\n",
    "# print(\"卡方分箱统计表:\\n\", \n",
    "#      toad.metrics.KS_bucket(df_trans['target'], \n",
    "#                            df_trans['mean radius_bin']))"
   ]
  }
 ],
 "metadata": {
  "kaggle": {
   "accelerator": "none",
   "dataSources": [
    {
     "databundleVersionId": 11321226,
     "sourceId": 95031,
     "sourceType": "competition"
    },
    {
     "datasetId": 6809133,
     "sourceId": 10947219,
     "sourceType": "datasetVersion"
    },
    {
     "isSourceIdPinned": true,
     "modelId": 280475,
     "modelInstanceId": 259281,
     "sourceId": 304197,
     "sourceType": "modelInstanceVersion"
    }
   ],
   "dockerImageVersionId": 30918,
   "isGpuEnabled": false,
   "isInternetEnabled": true,
   "language": "python",
   "sourceType": "notebook"
  },
  "kernelspec": {
   "display_name": "Python 3",
   "language": "python",
   "name": "python3"
  },
  "language_info": {
   "codemirror_mode": {
    "name": "ipython",
    "version": 3
   },
   "file_extension": ".py",
   "mimetype": "text/x-python",
   "name": "python",
   "nbconvert_exporter": "python",
   "pygments_lexer": "ipython3",
   "version": "3.10.12"
  },
  "papermill": {
   "default_parameters": {},
   "duration": 54.302542,
   "end_time": "2025-03-31T02:06:09.544530",
   "environment_variables": {},
   "exception": null,
   "input_path": "__notebook__.ipynb",
   "output_path": "__notebook__.ipynb",
   "parameters": {},
   "start_time": "2025-03-31T02:05:15.241988",
   "version": "2.6.0"
  }
 },
 "nbformat": 4,
 "nbformat_minor": 5
}
