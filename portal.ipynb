{
 "cells": [
  {
   "cell_type": "code",
   "execution_count": 1,
   "id": "238d9cc3",
   "metadata": {
    "_cell_guid": "b1076dfc-b9ad-4769-8c92-a6c4dae69d19",
    "_uuid": "8f2839f25d086af736a60e9eeb907d3b93b6e0e5",
    "execution": {
     "iopub.execute_input": "2025-03-19T01:18:26.127649Z",
     "iopub.status.busy": "2025-03-19T01:18:26.127281Z",
     "iopub.status.idle": "2025-03-19T01:18:26.863910Z",
     "shell.execute_reply": "2025-03-19T01:18:26.862911Z"
    },
    "papermill": {
     "duration": 0.74201,
     "end_time": "2025-03-19T01:18:26.865794",
     "exception": false,
     "start_time": "2025-03-19T01:18:26.123784",
     "status": "completed"
    },
    "tags": []
   },
   "outputs": [],
   "source": [
    "# This Python 3 environment comes with many helpful analytics libraries installed\n",
    "# It is defined by the kaggle/python Docker image: https://github.com/kaggle/docker-python\n",
    "# For example, here's several helpful packages to load\n",
    "\n",
    "import numpy as np # linear algebra\n",
    "import pandas as pd # data processing, CSV file I/O (e.g. pd.read_csv)\n",
    "\n",
    "# Input data files are available in the read-only \"../input/\" directory\n",
    "# For example, running this (by clicking run or pressing Shift+Enter) will list all files under the input directory\n",
    "\n",
    "import os\n",
    "for dirname, _, filenames in os.walk('/kaggle/input'):\n",
    "    for filename in filenames:\n",
    "        print(os.path.join(dirname, filename))\n",
    "\n",
    "# You can write up to 20GB to the current directory (/kaggle/working/) that gets preserved as output when you create a version using \"Save & Run All\" \n",
    "# You can also write temporary files to /kaggle/temp/, but they won't be saved outside of the current session"
   ]
  },
  {
   "cell_type": "code",
   "execution_count": 2,
   "id": "96ac67c0",
   "metadata": {
    "execution": {
     "iopub.execute_input": "2025-03-19T01:18:26.871235Z",
     "iopub.status.busy": "2025-03-19T01:18:26.870743Z",
     "iopub.status.idle": "2025-03-19T01:18:26.878196Z",
     "shell.execute_reply": "2025-03-19T01:18:26.877325Z"
    },
    "papermill": {
     "duration": 0.011917,
     "end_time": "2025-03-19T01:18:26.879906",
     "exception": false,
     "start_time": "2025-03-19T01:18:26.867989",
     "status": "completed"
    },
    "tags": []
   },
   "outputs": [
    {
     "data": {
      "text/plain": [
       "'\\n# 基于Kaggle Notebook的交互式Web界面示例\\nimport ipywidgets as widgets\\nfrom IPython.display import display, HTML\\nimport pandas as pd\\nimport plotly.express as px\\n\\n# --------------------------\\n# 模拟数据集（引用网页4的信用卡数据案例）\\n# --------------------------\\ndata = pd.DataFrame({\\n    \\'ID\\': range(1, 101),\\n    \\'Keyword\\': [\\'金融\\']*30 + [\\'医疗\\']*30 + [\\'教育\\']*40,\\n    \\'Category\\': [\\'A\\', \\'B\\', \\'C\\']*33 + [\\'C\\'],\\n    \\'Score\\': [i%100 for i in range(100)]\\n})\\n\\n# --------------------------\\n# 左侧控件设计\\n# --------------------------\\n# 输入框（引用网页3的参数设计逻辑）\\ntext_input = widgets.Text(\\n    placeholder=\\'输入关键词\\',\\n    description=\\'关键词:\\'\\n)\\n\\n# 复选框（引用网页4的类别选择逻辑）\\ncheckbox = widgets.Checkbox(\\n    value=True,\\n    description=\\'包含子类\\',\\n    disabled=False\\n)\\n\\n# 下拉框（引用网页4的可视化案例）\\ndropdown = widgets.Dropdown(\\n    options=[\\'A\\', \\'B\\', \\'C\\'],\\n    value=\\'A\\',\\n    description=\\'分类:\\'\\n)\\n\\n# 提交按钮\\nbutton = widgets.Button(\\n    description=\\'开始搜索\\',\\n    button_style=\\'success\\'\\n)\\n\\n# --------------------------\\n# 右侧输出设计\\n# --------------------------\\noutput = widgets.Output()\\n\\n# --------------------------\\n# 布局设计（左右分栏）\\n# --------------------------\\nleft_panel = widgets.VBox([text_input, checkbox, dropdown, button])\\nright_panel = widgets.VBox([output])\\ndashboard = widgets.HBox([left_panel, right_panel])\\n\\n# --------------------------\\n# 交互逻辑（引用网页3的预测模型交互逻辑）\\n# --------------------------\\ndef on_button_clicked(b):\\n    with output:\\n        output.clear_output()\\n        # 构建查询条件\\n        condition = (\\n            data[\\'Keyword\\'].str.contains(text_input.value) & \\n            (data[\\'Category\\'] == dropdown.value)\\n        )\\n        \\n        # 结果可视化（引用网页4的Plotly图表）\\n        fig = px.scatter(\\n            data[condition],\\n            x=\\'ID\\',\\n            y=\\'Score\\',\\n            color=\\'Category\\',\\n            title=f\"搜索结果：{len(data[condition])}条记录\",\\n            height=400\\n        )\\n        fig.show()\\n\\nbutton.on_click(on_button_clicked)\\n\\n# --------------------------\\n# 显示界面\\n# --------------------------\\ndisplay(dashboard)\\n'"
      ]
     },
     "execution_count": 2,
     "metadata": {},
     "output_type": "execute_result"
    }
   ],
   "source": [
    "# %%html\n",
    "# <style>\n",
    "# .code_cell {display: none !important;}  /* 隐藏所有代码单元格 */\n",
    "# </style>\n",
    "'''\n",
    "# 基于Kaggle Notebook的交互式Web界面示例\n",
    "import ipywidgets as widgets\n",
    "from IPython.display import display, HTML\n",
    "import pandas as pd\n",
    "import plotly.express as px\n",
    "\n",
    "# --------------------------\n",
    "# 模拟数据集（引用网页4的信用卡数据案例）\n",
    "# --------------------------\n",
    "data = pd.DataFrame({\n",
    "    'ID': range(1, 101),\n",
    "    'Keyword': ['金融']*30 + ['医疗']*30 + ['教育']*40,\n",
    "    'Category': ['A', 'B', 'C']*33 + ['C'],\n",
    "    'Score': [i%100 for i in range(100)]\n",
    "})\n",
    "\n",
    "# --------------------------\n",
    "# 左侧控件设计\n",
    "# --------------------------\n",
    "# 输入框（引用网页3的参数设计逻辑）\n",
    "text_input = widgets.Text(\n",
    "    placeholder='输入关键词',\n",
    "    description='关键词:'\n",
    ")\n",
    "\n",
    "# 复选框（引用网页4的类别选择逻辑）\n",
    "checkbox = widgets.Checkbox(\n",
    "    value=True,\n",
    "    description='包含子类',\n",
    "    disabled=False\n",
    ")\n",
    "\n",
    "# 下拉框（引用网页4的可视化案例）\n",
    "dropdown = widgets.Dropdown(\n",
    "    options=['A', 'B', 'C'],\n",
    "    value='A',\n",
    "    description='分类:'\n",
    ")\n",
    "\n",
    "# 提交按钮\n",
    "button = widgets.Button(\n",
    "    description='开始搜索',\n",
    "    button_style='success'\n",
    ")\n",
    "\n",
    "# --------------------------\n",
    "# 右侧输出设计\n",
    "# --------------------------\n",
    "output = widgets.Output()\n",
    "\n",
    "# --------------------------\n",
    "# 布局设计（左右分栏）\n",
    "# --------------------------\n",
    "left_panel = widgets.VBox([text_input, checkbox, dropdown, button])\n",
    "right_panel = widgets.VBox([output])\n",
    "dashboard = widgets.HBox([left_panel, right_panel])\n",
    "\n",
    "# --------------------------\n",
    "# 交互逻辑（引用网页3的预测模型交互逻辑）\n",
    "# --------------------------\n",
    "def on_button_clicked(b):\n",
    "    with output:\n",
    "        output.clear_output()\n",
    "        # 构建查询条件\n",
    "        condition = (\n",
    "            data['Keyword'].str.contains(text_input.value) & \n",
    "            (data['Category'] == dropdown.value)\n",
    "        )\n",
    "        \n",
    "        # 结果可视化（引用网页4的Plotly图表）\n",
    "        fig = px.scatter(\n",
    "            data[condition],\n",
    "            x='ID',\n",
    "            y='Score',\n",
    "            color='Category',\n",
    "            title=f\"搜索结果：{len(data[condition])}条记录\",\n",
    "            height=400\n",
    "        )\n",
    "        fig.show()\n",
    "\n",
    "button.on_click(on_button_clicked)\n",
    "\n",
    "# --------------------------\n",
    "# 显示界面\n",
    "# --------------------------\n",
    "display(dashboard)\n",
    "'''"
   ]
  },
  {
   "cell_type": "code",
   "execution_count": 3,
   "id": "e7c6850e",
   "metadata": {
    "execution": {
     "iopub.execute_input": "2025-03-19T01:18:26.884913Z",
     "iopub.status.busy": "2025-03-19T01:18:26.884581Z",
     "iopub.status.idle": "2025-03-19T01:18:46.981140Z",
     "shell.execute_reply": "2025-03-19T01:18:46.980086Z"
    },
    "papermill": {
     "duration": 20.100973,
     "end_time": "2025-03-19T01:18:46.982904",
     "exception": false,
     "start_time": "2025-03-19T01:18:26.881931",
     "status": "completed"
    },
    "tags": []
   },
   "outputs": [
    {
     "name": "stdout",
     "output_type": "stream",
     "text": [
      "\u001b[2K   \u001b[90m━━━━━━━━━━━━━━━━━━━━━━━━━━━━━━━━━━━━━━━━\u001b[0m \u001b[32m46.2/46.2 MB\u001b[0m \u001b[31m32.9 MB/s\u001b[0m eta \u001b[36m0:00:00\u001b[0m\r\n",
      "\u001b[2K   \u001b[90m━━━━━━━━━━━━━━━━━━━━━━━━━━━━━━━━━━━━━━━━\u001b[0m \u001b[32m322.2/322.2 kB\u001b[0m \u001b[31m14.3 MB/s\u001b[0m eta \u001b[36m0:00:00\u001b[0m\r\n",
      "\u001b[2K   \u001b[90m━━━━━━━━━━━━━━━━━━━━━━━━━━━━━━━━━━━━━━━━\u001b[0m \u001b[32m94.9/94.9 kB\u001b[0m \u001b[31m4.5 MB/s\u001b[0m eta \u001b[36m0:00:00\u001b[0m\r\n",
      "\u001b[2K   \u001b[90m━━━━━━━━━━━━━━━━━━━━━━━━━━━━━━━━━━━━━━━━\u001b[0m \u001b[32m11.3/11.3 MB\u001b[0m \u001b[31m98.5 MB/s\u001b[0m eta \u001b[36m0:00:00\u001b[0m\r\n",
      "\u001b[2K   \u001b[90m━━━━━━━━━━━━━━━━━━━━━━━━━━━━━━━━━━━━━━━━\u001b[0m \u001b[32m72.0/72.0 kB\u001b[0m \u001b[31m3.7 MB/s\u001b[0m eta \u001b[36m0:00:00\u001b[0m\r\n",
      "\u001b[2K   \u001b[90m━━━━━━━━━━━━━━━━━━━━━━━━━━━━━━━━━━━━━━━━\u001b[0m \u001b[32m62.3/62.3 kB\u001b[0m \u001b[31m2.8 MB/s\u001b[0m eta \u001b[36m0:00:00\u001b[0m\r\n",
      "\u001b[?25h* Running on local URL:  http://127.0.0.1:7860\n",
      "* Running on public URL: https://ad7007b46b7b9086f6.gradio.live\n",
      "\n",
      "This share link expires in 72 hours. For free permanent hosting and GPU upgrades, run `gradio deploy` from the terminal in the working directory to deploy to Hugging Face Spaces (https://huggingface.co/spaces)\n"
     ]
    },
    {
     "data": {
      "text/html": [
       "<div><iframe src=\"https://ad7007b46b7b9086f6.gradio.live\" width=\"100%\" height=\"500\" allow=\"autoplay; camera; microphone; clipboard-read; clipboard-write;\" frameborder=\"0\" allowfullscreen></iframe></div>"
      ],
      "text/plain": [
       "<IPython.core.display.HTML object>"
      ]
     },
     "metadata": {},
     "output_type": "display_data"
    },
    {
     "data": {
      "text/plain": []
     },
     "execution_count": 3,
     "metadata": {},
     "output_type": "execute_result"
    }
   ],
   "source": [
    "# 安装必要依赖（首次运行需执行）\n",
    "!pip install gradio -q --upgrade\n",
    "\n",
    "import gradio as gr\n",
    "\n",
    "# 功能逻辑：模拟根据参数生成搜索结果\n",
    "def generate_result(text_input, check_choices, dropdown_choice):\n",
    "    return {\n",
    "        \"文本参数\": text_input,\n",
    "        \"复选结果\": check_choices,\n",
    "        \"下拉选项\": dropdown_choice,\n",
    "        \"模拟数据\": [f\"结果{i}\" for i in range(1,4)]\n",
    "    }\n",
    "\n",
    "# 使用Blocks构建自定义布局\n",
    "with gr.Blocks(title=\"Kaggle交互页面示例\") as app:\n",
    "    with gr.Row():\n",
    "        # 左侧输入区\n",
    "        with gr.Column(scale=1):\n",
    "            text_input = gr.Textbox(label=\"输入文本参数\", placeholder=\"请输入关键词...\" )\n",
    "            check_group = gr.CheckboxGroup(\n",
    "                label=\"选择类别\",\n",
    "                choices=[\"类别A\", \"类别B\", \"类别C\"],\n",
    "                value=[\"类别A\"]\n",
    "            )\n",
    "            dropdown = gr.Dropdown(\n",
    "                label=\"筛选条件\", \n",
    "                choices=[\"最新排序\", \"相关度排序\", \"热度排序\"],\n",
    "                value=\"最新排序\"\n",
    "            )\n",
    "            submit_btn = gr.Button(\"提交查询\", variant=\"primary\")\n",
    "\n",
    "   \n",
    "        # 右侧展示区\n",
    "        with gr.Column(scale=2):\n",
    "            output_result = gr.JSON(label=\"查询结果\")\n",
    "\n",
    "    # 绑定事件\n",
    "    submit_btn.click(\n",
    "        fn=generate_result,\n",
    "        inputs=[text_input, check_group, dropdown],\n",
    "        outputs=output_result\n",
    "    )\n",
    "\n",
    "# 启动服务并生成公共链接（有效期72小时）\n",
    "app.launch(share=True, debug=False)"
   ]
  }
 ],
 "metadata": {
  "kaggle": {
   "accelerator": "none",
   "dataSources": [],
   "dockerImageVersionId": 30918,
   "isGpuEnabled": false,
   "isInternetEnabled": true,
   "language": "python",
   "sourceType": "notebook"
  },
  "kernelspec": {
   "display_name": "Python 3",
   "language": "python",
   "name": "python3"
  },
  "language_info": {
   "codemirror_mode": {
    "name": "ipython",
    "version": 3
   },
   "file_extension": ".py",
   "mimetype": "text/x-python",
   "name": "python",
   "nbconvert_exporter": "python",
   "pygments_lexer": "ipython3",
   "version": "3.10.12"
  },
  "papermill": {
   "default_parameters": {},
   "duration": 24.583258,
   "end_time": "2025-03-19T01:18:48.007745",
   "environment_variables": {},
   "exception": null,
   "input_path": "__notebook__.ipynb",
   "output_path": "__notebook__.ipynb",
   "parameters": {},
   "start_time": "2025-03-19T01:18:23.424487",
   "version": "2.6.0"
  }
 },
 "nbformat": 4,
 "nbformat_minor": 5
}
