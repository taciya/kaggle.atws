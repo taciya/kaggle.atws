{
 "cells": [
  {
   "cell_type": "code",
   "execution_count": 1,
   "id": "8ae1507c",
   "metadata": {
    "_cell_guid": "b1076dfc-b9ad-4769-8c92-a6c4dae69d19",
    "_uuid": "8f2839f25d086af736a60e9eeb907d3b93b6e0e5",
    "execution": {
     "iopub.execute_input": "2025-03-20T03:12:01.858754Z",
     "iopub.status.busy": "2025-03-20T03:12:01.858429Z",
     "iopub.status.idle": "2025-03-20T03:12:02.785310Z",
     "shell.execute_reply": "2025-03-20T03:12:02.783881Z"
    },
    "papermill": {
     "duration": 0.932034,
     "end_time": "2025-03-20T03:12:02.787100",
     "exception": false,
     "start_time": "2025-03-20T03:12:01.855066",
     "status": "completed"
    },
    "tags": []
   },
   "outputs": [
    {
     "name": "stdout",
     "output_type": "stream",
     "text": [
      "/kaggle/input/pubmain/pytorch/default/8/pubMain.py\n",
      "/kaggle/input/abnormal-transaction-warning-system/creditcard.csv\n",
      "/kaggle/input/pm-78714506-at-03-20-2025-03-11-33/__script__.py\n",
      "/kaggle/input/pm-78714506-at-03-20-2025-03-11-33/__results__.html\n",
      "/kaggle/input/pm-78714506-at-03-20-2025-03-11-33/input_requirements.txt\n",
      "/kaggle/input/pm-78714506-at-03-20-2025-03-11-33/__script__.ipynb\n",
      "/kaggle/input/pm-78714506-at-03-20-2025-03-11-33/__output__.json\n",
      "/kaggle/input/pm-78714506-at-03-20-2025-03-11-33/custom.css\n"
     ]
    }
   ],
   "source": [
    "# This Python 3 environment comes with many helpful analytics libraries installed\n",
    "# It is defined by the kaggle/python Docker image: https://github.com/kaggle/docker-python\n",
    "# For example, here's several helpful packages to load\n",
    "\n",
    "import numpy as np # linear algebra\n",
    "import pandas as pd # data processing, CSV file I/O (e.g. pd.read_csv)\n",
    "\n",
    "# Input data files are available in the read-only \"../input/\" directory\n",
    "# For example, running this (by clicking run or pressing Shift+Enter) will list all files under the input directory\n",
    "\n",
    "import os\n",
    "for dirname, _, filenames in os.walk('/kaggle/input'):\n",
    "    for filename in filenames:\n",
    "        print(os.path.join(dirname, filename))\n",
    "\n",
    "# You can write up to 20GB to the current directory (/kaggle/working/) that gets preserved as output when you create a version using \"Save & Run All\" \n",
    "# You can also write temporary files to /kaggle/temp/, but they won't be saved outside of the current session"
   ]
  },
  {
   "cell_type": "code",
   "execution_count": 2,
   "id": "a4dc5718",
   "metadata": {
    "execution": {
     "iopub.execute_input": "2025-03-20T03:12:02.792745Z",
     "iopub.status.busy": "2025-03-20T03:12:02.792303Z",
     "iopub.status.idle": "2025-03-20T03:12:02.799854Z",
     "shell.execute_reply": "2025-03-20T03:12:02.798773Z"
    },
    "papermill": {
     "duration": 0.011791,
     "end_time": "2025-03-20T03:12:02.801368",
     "exception": false,
     "start_time": "2025-03-20T03:12:02.789577",
     "status": "completed"
    },
    "tags": []
   },
   "outputs": [
    {
     "data": {
      "text/plain": [
       "'\\n\\n# 基于Kaggle Notebook的交互式Web界面示例\\nimport ipywidgets as widgets\\nfrom IPython.display import display, HTML\\nimport pandas as pd\\nimport plotly.express as px\\n\\n# --------------------------\\n# 模拟数据集（引用网页4的信用卡数据案例）\\n# --------------------------\\ndata = pd.DataFrame({\\n    \\'ID\\': range(1, 101),\\n    \\'Keyword\\': [\\'金融\\']*30 + [\\'医疗\\']*30 + [\\'教育\\']*40,\\n    \\'Category\\': [\\'A\\', \\'B\\', \\'C\\']*33 + [\\'C\\'],\\n    \\'Score\\': [i%100 for i in range(100)]\\n})\\n\\n# --------------------------\\n# 左侧控件设计\\n# --------------------------\\n# 输入框（引用网页3的参数设计逻辑）\\ntext_input = widgets.Text(\\n    placeholder=\\'输入关键词\\',\\n    description=\\'关键词:\\'\\n)\\n\\n# 复选框（引用网页4的类别选择逻辑）\\ncheckbox = widgets.Checkbox(\\n    value=True,\\n    description=\\'包含子类\\',\\n    disabled=False\\n)\\n\\n# 下拉框（引用网页4的可视化案例）\\ndropdown = widgets.Dropdown(\\n    options=[\\'A\\', \\'B\\', \\'C\\'],\\n    value=\\'A\\',\\n    description=\\'分类:\\'\\n)\\n\\n# 提交按钮\\nbutton = widgets.Button(\\n    description=\\'开始搜索\\',\\n    button_style=\\'success\\'\\n)\\n\\n# --------------------------\\n# 右侧输出设计\\n# --------------------------\\noutput = widgets.Output()\\n\\n# --------------------------\\n# 布局设计（左右分栏）\\n# --------------------------\\nleft_panel = widgets.VBox([text_input, checkbox, dropdown, button])\\nright_panel = widgets.VBox([output])\\ndashboard = widgets.HBox([left_panel, right_panel])\\n\\n# --------------------------\\n# 交互逻辑（引用网页3的预测模型交互逻辑）\\n# --------------------------\\ndef on_button_clicked(b):\\n    with output:\\n        output.clear_output()\\n        # 构建查询条件\\n        condition = (\\n            data[\\'Keyword\\'].str.contains(text_input.value) & \\n            (data[\\'Category\\'] == dropdown.value)\\n        )\\n        \\n        # 结果可视化（引用网页4的Plotly图表）\\n        fig = px.scatter(\\n            data[condition],\\n            x=\\'ID\\',\\n            y=\\'Score\\',\\n            color=\\'Category\\',\\n            title=f\"搜索结果：{len(data[condition])}条记录\",\\n            height=400\\n        )\\n        fig.show()\\n\\nbutton.on_click(on_button_clicked)\\n\\n# --------------------------\\n# 显示界面\\n# --------------------------\\ndisplay(dashboard)\\n'"
      ]
     },
     "execution_count": 2,
     "metadata": {},
     "output_type": "execute_result"
    }
   ],
   "source": [
    "'''\n",
    "\n",
    "# 基于Kaggle Notebook的交互式Web界面示例\n",
    "import ipywidgets as widgets\n",
    "from IPython.display import display, HTML\n",
    "import pandas as pd\n",
    "import plotly.express as px\n",
    "\n",
    "# --------------------------\n",
    "# 模拟数据集（引用网页4的信用卡数据案例）\n",
    "# --------------------------\n",
    "data = pd.DataFrame({\n",
    "    'ID': range(1, 101),\n",
    "    'Keyword': ['金融']*30 + ['医疗']*30 + ['教育']*40,\n",
    "    'Category': ['A', 'B', 'C']*33 + ['C'],\n",
    "    'Score': [i%100 for i in range(100)]\n",
    "})\n",
    "\n",
    "# --------------------------\n",
    "# 左侧控件设计\n",
    "# --------------------------\n",
    "# 输入框（引用网页3的参数设计逻辑）\n",
    "text_input = widgets.Text(\n",
    "    placeholder='输入关键词',\n",
    "    description='关键词:'\n",
    ")\n",
    "\n",
    "# 复选框（引用网页4的类别选择逻辑）\n",
    "checkbox = widgets.Checkbox(\n",
    "    value=True,\n",
    "    description='包含子类',\n",
    "    disabled=False\n",
    ")\n",
    "\n",
    "# 下拉框（引用网页4的可视化案例）\n",
    "dropdown = widgets.Dropdown(\n",
    "    options=['A', 'B', 'C'],\n",
    "    value='A',\n",
    "    description='分类:'\n",
    ")\n",
    "\n",
    "# 提交按钮\n",
    "button = widgets.Button(\n",
    "    description='开始搜索',\n",
    "    button_style='success'\n",
    ")\n",
    "\n",
    "# --------------------------\n",
    "# 右侧输出设计\n",
    "# --------------------------\n",
    "output = widgets.Output()\n",
    "\n",
    "# --------------------------\n",
    "# 布局设计（左右分栏）\n",
    "# --------------------------\n",
    "left_panel = widgets.VBox([text_input, checkbox, dropdown, button])\n",
    "right_panel = widgets.VBox([output])\n",
    "dashboard = widgets.HBox([left_panel, right_panel])\n",
    "\n",
    "# --------------------------\n",
    "# 交互逻辑（引用网页3的预测模型交互逻辑）\n",
    "# --------------------------\n",
    "def on_button_clicked(b):\n",
    "    with output:\n",
    "        output.clear_output()\n",
    "        # 构建查询条件\n",
    "        condition = (\n",
    "            data['Keyword'].str.contains(text_input.value) & \n",
    "            (data['Category'] == dropdown.value)\n",
    "        )\n",
    "        \n",
    "        # 结果可视化（引用网页4的Plotly图表）\n",
    "        fig = px.scatter(\n",
    "            data[condition],\n",
    "            x='ID',\n",
    "            y='Score',\n",
    "            color='Category',\n",
    "            title=f\"搜索结果：{len(data[condition])}条记录\",\n",
    "            height=400\n",
    "        )\n",
    "        fig.show()\n",
    "\n",
    "button.on_click(on_button_clicked)\n",
    "\n",
    "# --------------------------\n",
    "# 显示界面\n",
    "# --------------------------\n",
    "display(dashboard)\n",
    "'''"
   ]
  },
  {
   "cell_type": "code",
   "execution_count": 3,
   "id": "60f0d0e5",
   "metadata": {
    "execution": {
     "iopub.execute_input": "2025-03-20T03:12:02.806618Z",
     "iopub.status.busy": "2025-03-20T03:12:02.806294Z",
     "iopub.status.idle": "2025-03-20T03:12:21.292528Z",
     "shell.execute_reply": "2025-03-20T03:12:21.291498Z"
    },
    "papermill": {
     "duration": 18.490647,
     "end_time": "2025-03-20T03:12:21.294103",
     "exception": false,
     "start_time": "2025-03-20T03:12:02.803456",
     "status": "completed"
    },
    "tags": []
   },
   "outputs": [
    {
     "name": "stdout",
     "output_type": "stream",
     "text": [
      "\u001b[2K   \u001b[90m━━━━━━━━━━━━━━━━━━━━━━━━━━━━━━━━━━━━━━━━\u001b[0m \u001b[32m46.2/46.2 MB\u001b[0m \u001b[31m32.2 MB/s\u001b[0m eta \u001b[36m0:00:00\u001b[0m\r\n",
      "\u001b[2K   \u001b[90m━━━━━━━━━━━━━━━━━━━━━━━━━━━━━━━━━━━━━━━━\u001b[0m \u001b[32m322.2/322.2 kB\u001b[0m \u001b[31m15.1 MB/s\u001b[0m eta \u001b[36m0:00:00\u001b[0m\r\n",
      "\u001b[2K   \u001b[90m━━━━━━━━━━━━━━━━━━━━━━━━━━━━━━━━━━━━━━━━\u001b[0m \u001b[32m94.9/94.9 kB\u001b[0m \u001b[31m5.0 MB/s\u001b[0m eta \u001b[36m0:00:00\u001b[0m\r\n",
      "\u001b[2K   \u001b[90m━━━━━━━━━━━━━━━━━━━━━━━━━━━━━━━━━━━━━━━━\u001b[0m \u001b[32m11.3/11.3 MB\u001b[0m \u001b[31m81.8 MB/s\u001b[0m eta \u001b[36m0:00:00\u001b[0m\r\n",
      "\u001b[2K   \u001b[90m━━━━━━━━━━━━━━━━━━━━━━━━━━━━━━━━━━━━━━━━\u001b[0m \u001b[32m72.0/72.0 kB\u001b[0m \u001b[31m3.6 MB/s\u001b[0m eta \u001b[36m0:00:00\u001b[0m\r\n",
      "\u001b[2K   \u001b[90m━━━━━━━━━━━━━━━━━━━━━━━━━━━━━━━━━━━━━━━━\u001b[0m \u001b[32m62.3/62.3 kB\u001b[0m \u001b[31m3.0 MB/s\u001b[0m eta \u001b[36m0:00:00\u001b[0m\r\n",
      "\u001b[?25h['pubMain.py']\n",
      "* Running on local URL:  http://127.0.0.1:7860\n",
      "* Running on public URL: https://92eaa5f306932d62d2.gradio.live\n",
      "\n",
      "This share link expires in 72 hours. For free permanent hosting and GPU upgrades, run `gradio deploy` from the terminal in the working directory to deploy to Hugging Face Spaces (https://huggingface.co/spaces)\n"
     ]
    },
    {
     "data": {
      "text/html": [
       "<div><iframe src=\"https://92eaa5f306932d62d2.gradio.live\" width=\"100%\" height=\"500\" allow=\"autoplay; camera; microphone; clipboard-read; clipboard-write;\" frameborder=\"0\" allowfullscreen></iframe></div>"
      ],
      "text/plain": [
       "<IPython.core.display.HTML object>"
      ]
     },
     "metadata": {},
     "output_type": "display_data"
    },
    {
     "data": {
      "text/plain": []
     },
     "execution_count": 3,
     "metadata": {},
     "output_type": "execute_result"
    }
   ],
   "source": [
    "!pip install gradio -q --upgrade\n",
    "import gradio as gr\n",
    "# ===== 1. 添加精确路径到Python系统路径 =====\n",
    "incPath='/kaggle/input/pubmain/pytorch/default/8'\n",
    "import sys\n",
    "sys.path.append(incPath)  \n",
    "# ===== 2. 检查文件是否存在 =====\n",
    "import os\n",
    "print(os.listdir(incPath))  # 确认输出包含pubMain.py\n",
    "# ===== 3. 动态加载模块（避免缓存问题） =====\n",
    "import importlib\n",
    "import pubMain  # 首次导入\n",
    "# 强制重新加载（适用于修改后重新上传）\n",
    "importlib.reload(pubMain)  \n",
    "\n",
    "import matplotlib.pyplot as plt\n",
    "# 功能逻辑：模拟根据参数生成搜索结果\n",
    "def generate_result(in_PCA, in_max_depth, in_min_samples_split, in_min_samples_leaf, in_kde, in_element, in_stat) -> plt.Figure:\n",
    "    return pubMain.atws_show(in_PCA, in_max_depth, in_min_samples_split, in_min_samples_leaf, in_kde, in_element, in_stat)\n",
    "\n",
    "# 使用Blocks构建自定义布局\n",
    "with gr.Blocks() as app:\n",
    "    with gr.Row():#左右分栏\n",
    "        with gr.Column():\n",
    "            submit_btn = gr.Button(\"提交查询\", variant=\"primary\")\n",
    "    with gr.Row():#左右分栏\n",
    "        # 左侧参数面板\n",
    "        with gr.Column(scale=1):\n",
    "            with gr.Tabs():\n",
    "                with gr.Tab(\"# 预处理参数\"):\n",
    "                    gr.Markdown(\"### PCA降维\")\n",
    "                    in_PCA = gr.Radio([\"否\", \"要\"], label=\"再次降维\" ,value = \"否\")\n",
    "                    gr.Markdown(\"### 数据分箱\")\n",
    "                    in_max_depth = gr.Textbox(label=\"树的最大深度、较深树易过拟合\",value = \"13\",placeholder=\"银行业:10-15, 电商:5-8, 保险:8-12\")\n",
    "                    in_min_samples_split = gr.Textbox(label=\"节点分裂所需最小样本数、抑制过拟合\",value = \"85\",placeholder=\"银行业:50-100, 电商:20-50\")\n",
    "                    in_min_samples_leaf = gr.Textbox(label=\"叶节点最小样本数、防止不稳定叶节点\",value = \"15\",placeholder=\"统一建议:10-20\")\n",
    " \n",
    "                with gr.Tab(\"# 分布图参数\"):\n",
    "                    in_kde = gr.Checkbox(label=\"显示核密度曲线\",value = \"True\")\n",
    "                    in_element = gr.Radio([\"bars\", \"step\", \"poly\"],value = \"step\", label=\"图表元素\")\n",
    "                    in_stat = gr.Radio([\"count\", \"density\"],value = \"count\", label=\"统计方式\")   \n",
    "            \n",
    "        # 右侧展示面板\n",
    "        with gr.Column(scale=2):\n",
    "            output_result = gr.Plot(label=\"可视化结果\") #gr.JSON()\n",
    "            # alert_table = gr.Dataframe(\n",
    "            #     headers=data.columns.tolist() + ['Alert'],\n",
    "            #     datatype=[\"number\"]*len(data.columns) + [\"bool\"]\n",
    "            # )\n",
    "\n",
    "    # 参数联动逻辑\n",
    "    # bins_type.change(fn=update_bins_options, outputs=[...])\n",
    "    \n",
    "    # 绑定事件\n",
    "    submit_btn.click(\n",
    "        fn=generate_result,\n",
    "        inputs=[in_PCA, in_max_depth, in_min_samples_split, in_min_samples_leaf, in_kde, in_element, in_stat],\n",
    "        outputs=output_result\n",
    "    )\n",
    "app.launch(share=True, debug=False)"
   ]
  }
 ],
 "metadata": {
  "kaggle": {
   "accelerator": "none",
   "dataSources": [
    {
     "databundleVersionId": 11321226,
     "isSourceIdPinned": false,
     "sourceId": 95031,
     "sourceType": "competition"
    },
    {
     "isSourceIdPinned": true,
     "modelId": 272531,
     "modelInstanceId": 251048,
     "sourceId": 293156,
     "sourceType": "modelInstanceVersion"
    }
   ],
   "dockerImageVersionId": 30918,
   "isGpuEnabled": false,
   "isInternetEnabled": true,
   "language": "python",
   "sourceType": "notebook"
  },
  "kernelspec": {
   "display_name": "Python 3",
   "language": "python",
   "name": "python3"
  },
  "language_info": {
   "codemirror_mode": {
    "name": "ipython",
    "version": 3
   },
   "file_extension": ".py",
   "mimetype": "text/x-python",
   "name": "python",
   "nbconvert_exporter": "python",
   "pygments_lexer": "ipython3",
   "version": "3.10.12"
  },
  "papermill": {
   "default_parameters": {},
   "duration": 23.146418,
   "end_time": "2025-03-20T03:12:22.218979",
   "environment_variables": {},
   "exception": null,
   "input_path": "__notebook__.ipynb",
   "output_path": "__notebook__.ipynb",
   "parameters": {},
   "start_time": "2025-03-20T03:11:59.072561",
   "version": "2.6.0"
  }
 },
 "nbformat": 4,
 "nbformat_minor": 5
}
