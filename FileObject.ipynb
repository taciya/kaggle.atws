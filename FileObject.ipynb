{
  "metadata": {
    "kernelspec": {
      "language": "python",
      "display_name": "Python 3",
      "name": "python3"
    },
    "language_info": {
      "name": "python",
      "version": "3.10.12",
      "mimetype": "text/x-python",
      "codemirror_mode": {
        "name": "ipython",
        "version": 3
      },
      "pygments_lexer": "ipython3",
      "nbconvert_exporter": "python",
      "file_extension": ".py"
    },
    "kaggle": {
      "accelerator": "none",
      "dataSources": [
        {
          "sourceId": 95031,
          "databundleVersionId": 11321226,
          "sourceType": "competition"
        }
      ],
      "dockerImageVersionId": 30918,
      "isInternetEnabled": true,
      "language": "python",
      "sourceType": "notebook",
      "isGpuEnabled": false
    },
    "colab": {
      "name": "FileObject",
      "provenance": [],
      "include_colab_link": true
    }
  },
  "nbformat_minor": 0,
  "nbformat": 4,
  "cells": [
    {
      "cell_type": "markdown",
      "metadata": {
        "id": "view-in-github",
        "colab_type": "text"
      },
      "source": [
        "<a href=\"https://colab.research.google.com/github/taciya/kaggle.atws/blob/main/FileObject.ipynb\" target=\"_parent\"><img src=\"https://colab.research.google.com/assets/colab-badge.svg\" alt=\"Open In Colab\"/></a>"
      ]
    },
    {
      "source": [
        "# IMPORTANT: SOME KAGGLE DATA SOURCES ARE PRIVATE\n",
        "# RUN THIS CELL IN ORDER TO IMPORT YOUR KAGGLE DATA SOURCES.\n",
        "import kagglehub\n",
        "kagglehub.login()\n"
      ],
      "metadata": {
        "id": "ft9azuJ3XywQ"
      },
      "cell_type": "code",
      "outputs": [],
      "execution_count": null
    },
    {
      "source": [
        "# IMPORTANT: RUN THIS CELL IN ORDER TO IMPORT YOUR KAGGLE DATA SOURCES,\n",
        "# THEN FEEL FREE TO DELETE THIS CELL.\n",
        "# NOTE: THIS NOTEBOOK ENVIRONMENT DIFFERS FROM KAGGLE'S PYTHON\n",
        "# ENVIRONMENT SO THERE MAY BE MISSING LIBRARIES USED BY YOUR\n",
        "# NOTEBOOK.\n",
        "\n",
        "abnormal_transaction_warning_system_path = kagglehub.competition_download('abnormal-transaction-warning-system')\n",
        "\n",
        "print('Data source import complete.')\n"
      ],
      "metadata": {
        "id": "tKkQkiAJXywS"
      },
      "cell_type": "code",
      "outputs": [],
      "execution_count": null
    },
    {
      "cell_type": "code",
      "source": [
        "import os\n",
        "import stat\n",
        "import platform\n",
        "import sys\n",
        "from datetime import datetime\n",
        "\n",
        "def print_file_info(file_path):\n",
        "    try:\n",
        "        # 检查文件是否存在\n",
        "        if not os.path.exists(file_path):\n",
        "            print(f\"错误：文件 '{file_path}' 不存在\")\n",
        "            return\n",
        "\n",
        "        # 获取文件基本状态信息\n",
        "        file_stat = os.stat(file_path)\n",
        "\n",
        "        # 文件类型判断\n",
        "        file_type = \"未知\"\n",
        "        if os.path.isfile(file_path):\n",
        "            file_type = \"普通文件\"\n",
        "        elif os.path.isdir(file_path):\n",
        "            file_type = \"目录\"\n",
        "        elif os.path.islink(file_path):\n",
        "            file_type = \"符号链接\"\n",
        "\n",
        "        # 文件系统编码检测\n",
        "        fs_encoding = sys.getfilesystemencoding()\n",
        "\n",
        "        # 获取时间信息（兼容不同系统）\n",
        "        system = platform.system()\n",
        "        #ctime = file_stat.st_ctime if system == 'Windows' else file_stat.st_birthtime\n",
        "        ctime = file_stat.st_ctime\n",
        "\n",
        "        # 转换时间戳为可读格式\n",
        "        time_format = \"%Y-%m-%d %H:%M:%S\"\n",
        "        access_time = datetime.fromtimestamp(file_stat.st_atime).strftime(time_format)\n",
        "        modify_time = datetime.fromtimestamp(file_stat.st_mtime).strftime(time_format)\n",
        "        create_time = datetime.fromtimestamp(ctime).strftime(time_format) if ctime else \"N/A\"\n",
        "\n",
        "        # 权限符号化处理\n",
        "        permissions = stat.filemode(file_stat.st_mode)\n",
        "\n",
        "        # 获取绝对路径和规范路径\n",
        "        abs_path = os.path.abspath(file_path)\n",
        "        real_path = os.path.realpath(file_path)\n",
        "\n",
        "        # 构建信息字典\n",
        "        file_info = {\n",
        "            \"文件名称\": os.path.basename(file_path),\n",
        "            \"绝对路径\": abs_path,\n",
        "            \"真实路径\": real_path if real_path != abs_path else \"N/A\",\n",
        "            \"文件类型\": file_type,\n",
        "            \"文件大小\": f\"{file_stat.st_size} bytes\",\n",
        "            \"占用块数\": file_stat.st_blocks,\n",
        "            \"IO块大小\": f\"{file_stat.st_blksize} bytes\",\n",
        "            \"文件系统编码\": fs_encoding,\n",
        "            \"访问权限\": {\n",
        "                \"符号表示\": permissions,\n",
        "                \"八进制表示\": oct(file_stat.st_mode)[-4:]\n",
        "            },\n",
        "            \"时间信息\": {\n",
        "                \"创建时间\": create_time,\n",
        "                \"修改时间\": modify_time,\n",
        "                \"访问时间\": access_time\n",
        "            },\n",
        "            \"设备信息\": {\n",
        "                \"inode编号\": file_stat.st_ino,\n",
        "                \"设备号\": f\"{os.major(file_stat.st_dev)}:{os.minor(file_stat.st_dev)}\",\n",
        "                \"硬链接数\": file_stat.st_nlink\n",
        "            },\n",
        "            \"所有者信息\": {\n",
        "                \"用户ID\": file_stat.st_uid,\n",
        "                \"组ID\": file_stat.st_gid\n",
        "            }\n",
        "        }\n",
        "\n",
        "        # 打印结构化信息\n",
        "        print(\"\\n文件详细信息：\")\n",
        "        print(\"=\" * 50)\n",
        "        for category, details in file_info.items():\n",
        "            print(f\"{category}:\")\n",
        "            if isinstance(details, dict):\n",
        "                for k, v in details.items():\n",
        "                    print(f\"  ▸ {k.ljust(15)}: {v}\")\n",
        "            else:\n",
        "                print(f\"  ▸ {details}\")\n",
        "            print(\"-\" * 50)\n",
        "\n",
        "    except PermissionError:\n",
        "        print(f\"错误：没有访问 '{file_path}' 的权限\")\n",
        "    except Exception as e:\n",
        "        print(f\"发生未知错误: {str(e)}\")"
      ],
      "metadata": {
        "_uuid": "8f2839f25d086af736a60e9eeb907d3b93b6e0e5",
        "_cell_guid": "b1076dfc-b9ad-4769-8c92-a6c4dae69d19",
        "trusted": true,
        "id": "-OmB5C_QXywS"
      },
      "outputs": [],
      "execution_count": null
    }
  ]
}