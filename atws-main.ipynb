{
 "cells": [
  {
   "cell_type": "code",
   "execution_count": 1,
   "id": "98cd64f4",
   "metadata": {
    "_cell_guid": "b1076dfc-b9ad-4769-8c92-a6c4dae69d19",
    "_uuid": "8f2839f25d086af736a60e9eeb907d3b93b6e0e5",
    "execution": {
     "iopub.execute_input": "2025-03-07T07:27:21.431861Z",
     "iopub.status.busy": "2025-03-07T07:27:21.431515Z",
     "iopub.status.idle": "2025-03-07T07:27:22.268787Z",
     "shell.execute_reply": "2025-03-07T07:27:22.267729Z"
    },
    "papermill": {
     "duration": 0.84228,
     "end_time": "2025-03-07T07:27:22.270496",
     "exception": false,
     "start_time": "2025-03-07T07:27:21.428216",
     "status": "completed"
    },
    "tags": []
   },
   "outputs": [
    {
     "name": "stdout",
     "output_type": "stream",
     "text": [
      "/kaggle/input/abnormal-transaction-warning-system/creditcard.csv\n",
      "/kaggle/input/functions/FileObject.py\n"
     ]
    }
   ],
   "source": [
    "# This Python 3 environment comes with many helpful analytics libraries installed\n",
    "# It is defined by the kaggle/python Docker image: https://github.com/kaggle/docker-python\n",
    "# For example, here's several helpful packages to load\n",
    "\n",
    "import numpy as np # linear algebra\n",
    "import pandas as pd # data processing, CSV file I/O (e.g. pd.read_csv)\n",
    "\n",
    "# Input data files are available in the read-only \"../input/\" directory\n",
    "# For example, running this (by clicking run or pressing Shift+Enter) will list all files under the input directory\n",
    "\n",
    "import os\n",
    "\n",
    "import sys\n",
    "sys.path.append(\"/kaggle/input/functions/FileObject.py\")\n",
    "for dirname, _, filenames in os.walk('/kaggle/input'):\n",
    "    for filename in filenames:\n",
    "        file_path=os.path.join(dirname, filename)\n",
    "        print(file_path)\n",
    "        # print_file_info(file_path)\n",
    "\n",
    "# You can write up to 20GB to the current directory (/kaggle/working/) that gets preserved as output when you create a version using \"Save & Run All\" \n",
    "# You can also write temporary files to /kaggle/temp/, but they won't be saved outside of the current session"
   ]
  },
  {
   "cell_type": "code",
   "execution_count": 2,
   "id": "0c3b50f5",
   "metadata": {
    "execution": {
     "iopub.execute_input": "2025-03-07T07:27:22.275268Z",
     "iopub.status.busy": "2025-03-07T07:27:22.274820Z",
     "iopub.status.idle": "2025-03-07T07:27:24.766553Z",
     "shell.execute_reply": "2025-03-07T07:27:24.765297Z"
    },
    "papermill": {
     "duration": 2.495702,
     "end_time": "2025-03-07T07:27:24.768282",
     "exception": false,
     "start_time": "2025-03-07T07:27:22.272580",
     "status": "completed"
    },
    "tags": []
   },
   "outputs": [
    {
     "name": "stdout",
     "output_type": "stream",
     "text": [
      "    No        V1        V2        V3        V4        V5        V6        V7  \\\n",
      "0  0.0 -1.359807 -0.072781  2.536347  1.378155 -0.338321  0.462388  0.239599   \n",
      "1  0.0  1.191857  0.266151  0.166480  0.448154  0.060018 -0.082361 -0.078803   \n",
      "2  1.0 -1.358354 -1.340163  1.773209  0.379780 -0.503198  1.800499  0.791461   \n",
      "3  1.0 -0.966272 -0.185226  1.792993 -0.863291 -0.010309  1.247203  0.237609   \n",
      "4  2.0 -1.158233  0.877737  1.548718  0.403034 -0.407193  0.095921  0.592941   \n",
      "\n",
      "         V8        V9  ...       V24       V25       V26       V27       V28  \\\n",
      "0  0.098698  0.363787  ...  0.066928  0.128539 -0.189115  0.133558 -0.021053   \n",
      "1  0.085102 -0.255425  ... -0.339846  0.167170  0.125895 -0.008983  0.014724   \n",
      "2  0.247676 -1.514654  ... -0.689281 -0.327642 -0.139097 -0.055353 -0.059752   \n",
      "3  0.377436 -1.387024  ... -1.175575  0.647376 -0.221929  0.062723  0.061458   \n",
      "4 -0.270533  0.817739  ...  0.141267 -0.206010  0.502292  0.219422  0.215153   \n",
      "\n",
      "   Amount  Class   UserID  Time  TransactionID  \n",
      "0  149.62      0  7905020     0   365260000002  \n",
      "1    2.69      0  7905020     0   365260000003  \n",
      "2  378.66      0  7905021  3600   365260000004  \n",
      "3  123.50      0  7905021  3600   365260000005  \n",
      "4   69.99      0  7905022  7200   365260000006  \n",
      "\n",
      "[5 rows x 34 columns]\n",
      "正常交易: 284315 条\n",
      "异常交易: 492 条\n"
     ]
    }
   ],
   "source": [
    "import pandas as pd\n",
    "\n",
    "# 加载信用卡欺诈数据集（CSV格式）\n",
    "data = pd.read_csv('/kaggle/input/abnormal-transaction-warning-system/creditcard.csv')\n",
    "\n",
    "# 查看数据概况\n",
    "print(data.head())\n",
    "print(f\"正常交易: {data['Class'].value_counts()[0]} 条\")\n",
    "print(f\"异常交易: {data['Class'].value_counts()[1]} 条\")"
   ]
  }
 ],
 "metadata": {
  "kaggle": {
   "accelerator": "none",
   "dataSources": [
    {
     "databundleVersionId": 11321226,
     "sourceId": 95031,
     "sourceType": "competition"
    },
    {
     "datasetId": 6809133,
     "sourceId": 10947219,
     "sourceType": "datasetVersion"
    }
   ],
   "dockerImageVersionId": 30918,
   "isGpuEnabled": false,
   "isInternetEnabled": true,
   "language": "python",
   "sourceType": "notebook"
  },
  "kernelspec": {
   "display_name": "Python 3",
   "language": "python",
   "name": "python3"
  },
  "language_info": {
   "codemirror_mode": {
    "name": "ipython",
    "version": 3
   },
   "file_extension": ".py",
   "mimetype": "text/x-python",
   "name": "python",
   "nbconvert_exporter": "python",
   "pygments_lexer": "ipython3",
   "version": "3.10.12"
  },
  "papermill": {
   "default_parameters": {},
   "duration": 6.506569,
   "end_time": "2025-03-07T07:27:25.288545",
   "environment_variables": {},
   "exception": null,
   "input_path": "__notebook__.ipynb",
   "output_path": "__notebook__.ipynb",
   "parameters": {},
   "start_time": "2025-03-07T07:27:18.781976",
   "version": "2.6.0"
  }
 },
 "nbformat": 4,
 "nbformat_minor": 5
}
