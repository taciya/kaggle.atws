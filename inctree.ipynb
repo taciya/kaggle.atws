{
 "cells": [
  {
   "cell_type": "code",
   "execution_count": 1,
   "id": "430ff4f0",
   "metadata": {
    "execution": {
     "iopub.execute_input": "2025-03-26T06:51:57.213001Z",
     "iopub.status.busy": "2025-03-26T06:51:57.212682Z",
     "iopub.status.idle": "2025-03-26T06:51:57.219893Z",
     "shell.execute_reply": "2025-03-26T06:51:57.219018Z"
    },
    "papermill": {
     "duration": 0.011645,
     "end_time": "2025-03-26T06:51:57.221429",
     "exception": false,
     "start_time": "2025-03-26T06:51:57.209784",
     "status": "completed"
    },
    "tags": []
   },
   "outputs": [],
   "source": [
    "# %% [markdown]\n",
    "# ---\n",
    "# MODULE: inctree\n",
    "# ---\n",
    "# 当前位置路径：/kaggle/working\n",
    "import numpy as np\n",
    "\n",
    "# 提取分箱边界\n",
    "def get_tree_bins(model,X_Tree, y_Tree, feature_index=0):\n",
    "    import numpy as np\n",
    "    thresholds = model.tree_.threshold[model.tree_.feature == feature_index]\n",
    "    valid_thresholds = thresholdst[thresholds != -2.0] # 过滤无效节点\n",
    "    # 添加数据最小最大值形成完整区间\n",
    "    min_val = X_Tree.iloc[:, feature_index].min() # 取feature_index列，最小值\n",
    "    max_val = X_Tree.iloc[:, feature_index].max() # 取feature_index列，最大值\n",
    "    bins = np.sort(np.concatenate([[min_val], valid_thresholds, [max_val]]))\n",
    "    return np.unique(bins)  # 去重处理\n",
    "    \n",
    "# 提取分箱边界（如果有对数变换增强，还原实际金额）\n",
    "def get_tree_bins_expm1(model,X_Tree, y_Tree, feature_index=0):\n",
    "    bins = get_tree_bins(model,X_Tree, y_Tree, feature_index)\n",
    "    return np.expm1(bins) # exp(x) - 1 ： 指数-1\n"
   ]
  }
 ],
 "metadata": {
  "kaggle": {
   "accelerator": "none",
   "dataSources": [],
   "dockerImageVersionId": 30918,
   "isGpuEnabled": false,
   "isInternetEnabled": true,
   "language": "python",
   "sourceType": "notebook"
  },
  "kernelspec": {
   "display_name": "Python 3",
   "language": "python",
   "name": "python3"
  },
  "language_info": {
   "codemirror_mode": {
    "name": "ipython",
    "version": 3
   },
   "file_extension": ".py",
   "mimetype": "text/x-python",
   "name": "python",
   "nbconvert_exporter": "python",
   "pygments_lexer": "ipython3",
   "version": "3.10.12"
  },
  "papermill": {
   "default_parameters": {},
   "duration": 3.13148,
   "end_time": "2025-03-26T06:51:57.640641",
   "environment_variables": {},
   "exception": null,
   "input_path": "__notebook__.ipynb",
   "output_path": "__notebook__.ipynb",
   "parameters": {},
   "start_time": "2025-03-26T06:51:54.509161",
   "version": "2.6.0"
  }
 },
 "nbformat": 4,
 "nbformat_minor": 5
}
