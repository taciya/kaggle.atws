{
 "cells": [
  {
   "cell_type": "code",
   "execution_count": 1,
   "id": "132b7695",
   "metadata": {
    "execution": {
     "iopub.execute_input": "2025-03-26T03:26:39.120254Z",
     "iopub.status.busy": "2025-03-26T03:26:39.119903Z",
     "iopub.status.idle": "2025-03-26T03:26:39.127374Z",
     "shell.execute_reply": "2025-03-26T03:26:39.126370Z"
    },
    "papermill": {
     "duration": 0.012164,
     "end_time": "2025-03-26T03:26:39.129084",
     "exception": false,
     "start_time": "2025-03-26T03:26:39.116920",
     "status": "completed"
    },
    "tags": []
   },
   "outputs": [],
   "source": [
    "import numpy as np\n",
    "\n",
    "# 提取分箱边界\n",
    "def get_tree_bins(model,X_Tree, y_Tree, feature_index=0):\n",
    "    import numpy as np\n",
    "    thresholds = model.tree_.threshold[model.tree_.feature == feature_index]\n",
    "    valid_thresholds = thresholds[thresholds != -2.0] # 过滤无效节点\n",
    "    # 添加数据最小最大值形成完整区间\n",
    "    min_val = X_Tree.iloc[:, feature_index].min() # 取feature_index列，最小值\n",
    "    max_val = X_Tree.iloc[:, feature_index].max() # 取feature_index列，最大值\n",
    "    bins = np.sort(np.concatenate([[min_val], valid_thresholds, [max_val]]))\n",
    "    return np.unique(bins)  # 去重处理\n",
    "    \n",
    "# 提取分箱边界（如果有对数变换增强，还原实际金额）\n",
    "def get_tree_bins_expm1(model,X_Tree, y_Tree, feature_index=0):\n",
    "    bins = get_tree_bins(model,X_Tree, y_Tree, feature_index)\n",
    "    return np.expm1(bins) # exp(x) - 1 ： 指数-1\n"
   ]
  }
 ],
 "metadata": {
  "kaggle": {
   "accelerator": "none",
   "dataSources": [],
   "isGpuEnabled": false,
   "isInternetEnabled": true,
   "language": "python",
   "sourceType": "notebook"
  },
  "kernelspec": {
   "display_name": "Python 3",
   "language": "python",
   "name": "python3"
  },
  "language_info": {
   "codemirror_mode": {
    "name": "ipython",
    "version": 3
   },
   "file_extension": ".py",
   "mimetype": "text/x-python",
   "name": "python",
   "nbconvert_exporter": "python",
   "pygments_lexer": "ipython3",
   "version": "3.10.12"
  },
  "papermill": {
   "default_parameters": {},
   "duration": 3.393455,
   "end_time": "2025-03-26T03:26:39.649463",
   "environment_variables": {},
   "exception": null,
   "input_path": "__notebook__.ipynb",
   "output_path": "__notebook__.ipynb",
   "parameters": {},
   "start_time": "2025-03-26T03:26:36.256008",
   "version": "2.6.0"
  }
 },
 "nbformat": 4,
 "nbformat_minor": 5
}
