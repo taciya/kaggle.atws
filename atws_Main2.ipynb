{
  "metadata": {
    "kernelspec": {
      "language": "python",
      "display_name": "Python 3",
      "name": "python3"
    },
    "language_info": {
      "name": "python",
      "version": "3.10.12",
      "mimetype": "text/x-python",
      "codemirror_mode": {
        "name": "ipython",
        "version": 3
      },
      "pygments_lexer": "ipython3",
      "nbconvert_exporter": "python",
      "file_extension": ".py"
    },
    "kaggle": {
      "accelerator": "none",
      "dataSources": [
        {
          "sourceId": 95031,
          "databundleVersionId": 11321226,
          "sourceType": "competition"
        },
        {
          "sourceId": 10947219,
          "sourceType": "datasetVersion",
          "datasetId": 6809133
        }
      ],
      "dockerImageVersionId": 30918,
      "isInternetEnabled": true,
      "language": "python",
      "sourceType": "notebook",
      "isGpuEnabled": false
    },
    "colab": {
      "name": "atws_Main2",
      "provenance": [],
      "include_colab_link": true
    }
  },
  "nbformat_minor": 0,
  "nbformat": 4,
  "cells": [
    {
      "cell_type": "markdown",
      "metadata": {
        "id": "view-in-github",
        "colab_type": "text"
      },
      "source": [
        "<a href=\"https://colab.research.google.com/github/taciya/kaggle.atws/blob/main/atws_Main2.ipynb\" target=\"_parent\"><img src=\"https://colab.research.google.com/assets/colab-badge.svg\" alt=\"Open In Colab\"/></a>"
      ]
    },
    {
      "source": [
        "# IMPORTANT: SOME KAGGLE DATA SOURCES ARE PRIVATE\n",
        "# RUN THIS CELL IN ORDER TO IMPORT YOUR KAGGLE DATA SOURCES.\n",
        "import kagglehub\n",
        "kagglehub.login()\n"
      ],
      "metadata": {
        "id": "wdC0tpkmRJMG"
      },
      "cell_type": "code",
      "outputs": [],
      "execution_count": null
    },
    {
      "source": [
        "# IMPORTANT: RUN THIS CELL IN ORDER TO IMPORT YOUR KAGGLE DATA SOURCES,\n",
        "# THEN FEEL FREE TO DELETE THIS CELL.\n",
        "# NOTE: THIS NOTEBOOK ENVIRONMENT DIFFERS FROM KAGGLE'S PYTHON\n",
        "# ENVIRONMENT SO THERE MAY BE MISSING LIBRARIES USED BY YOUR\n",
        "# NOTEBOOK.\n",
        "\n",
        "abnormal_transaction_warning_system_path = kagglehub.competition_download('abnormal-transaction-warning-system')\n",
        "taciya_functions_path = kagglehub.dataset_download('taciya/functions')\n",
        "\n",
        "print('Data source import complete.')\n"
      ],
      "metadata": {
        "id": "wJx_z6R8RJMI"
      },
      "cell_type": "code",
      "outputs": [],
      "execution_count": null
    },
    {
      "cell_type": "code",
      "source": [
        "# init\n",
        "# This Python 3 environment comes with many helpful analytics libraries installed\n",
        "# It is defined by the kaggle/python Docker image: https://github.com/kaggle/docker-python\n",
        "# For example, here's several helpful packages to load\n",
        "\n",
        "import numpy as np # linear algebra\n",
        "import pandas as pd # data processing, CSV file I/O (e.g. pd.read_csv)\n",
        "\n",
        "# Input data files are available in the read-only \"../input/\" directory\n",
        "# For example, running this (by clicking run or pressing Shift+Enter) will list all files under the input directory\n",
        "\n",
        "import os\n",
        "\n",
        "import sys\n",
        "sys.path.append(\"/kaggle/input/functions/\")\n",
        "from FileObject import print_file_info\n",
        "\n",
        "for dirname, _, filenames in os.walk('/kaggle/input'):\n",
        "    for filename in filenames:\n",
        "        file_path=os.path.join(dirname, filename)\n",
        "        print_file_info(file_path)\n",
        "\n",
        "# You can write up to 20GB to the current directory (/kaggle/working/) that gets preserved as output when you create a version using \"Save & Run All\"\n",
        "# You can also write temporary files to /kaggle/temp/, but they won't be saved outside of the current session"
      ],
      "metadata": {
        "_uuid": "8f2839f25d086af736a60e9eeb907d3b93b6e0e5",
        "_cell_guid": "b1076dfc-b9ad-4769-8c92-a6c4dae69d19",
        "trusted": true,
        "jupyter": {
          "source_hidden": true
        },
        "id": "nFBZdej0RJMJ"
      },
      "outputs": [],
      "execution_count": null
    },
    {
      "cell_type": "markdown",
      "source": [
        "**Main**"
      ],
      "metadata": {
        "id": "554DIQZZRJMJ"
      }
    },
    {
      "cell_type": "code",
      "source": [
        "import pandas as pd\n",
        "\n",
        "print(\"====================1. 数据获取与加载\")\n",
        "print(\"====================1.1 加载数据\")\n",
        "# 加载信用卡欺诈数据集（CSV格式）\n",
        "data = pd.read_csv('/kaggle/input/abnormal-transaction-warning-system/creditcard.csv')\n",
        "# 查看数据概况\n",
        "# print(data.head())\n",
        "print(f\"数据加载完毕 正常交易: {data['Class'].value_counts()[0]} 条\")\n",
        "print(f\"数据加载完毕 异常交易: {data['Class'].value_counts()[1]} 条\")\n",
        "\n",
        "print(\"====================2. 数据探索与预处理\")\n",
        "print(\"====================2.1 处理不平衡数据\")\n",
        "from sklearn.utils import resample\n",
        "\n",
        "# ​分离特征与标签\n",
        "X = data.drop('Class', axis=1)  # 特征（V1-V28、Amount、Time）\n",
        "y = data['Class']               # 标签（0=正常，1=欺诈）\n",
        "print(f\"分离特征 正常交易: {y.value_counts()[0]} 条\")\n",
        "print(f\"分离特征 异常交易: {y.value_counts()[1]} 条\")\n",
        "# ​标准化特征​（避免量纲差异影响采样效果）\n",
        "from sklearn.preprocessing import StandardScaler\n",
        "scaler = StandardScaler()\n",
        "X_scaled = scaler.fit_transform(X)\n",
        "\n",
        "# ​分离多数类与少数类\n",
        "# 正常交易（多数类）\n",
        "normal_indices = y[y == 0].index\n",
        "normal_X = X_scaled[y == 0]\n",
        "# 异常交易（少数类）\n",
        "fraud_indices = y[y == 1].index\n",
        "fraud_X = X_scaled[y == 1]\n",
        "\n",
        "# ​使用SMOTE生成合成样本\n",
        "from imblearn.over_sampling import SMOTE\n",
        "smote = SMOTE(random_state=42)\n",
        "fraud_X_resampled, fraud_y_resampled = smote.fit_resample(fraud_X, fraud_indices)\n",
        "print(\"采样后总样本数：\", len(fraud_X_resampled) + len(normal_X))\n",
        "print(\"正常样本占比：\", len(normal_X) / (len(normal_X) + len(fraud_X_resampled)))\n",
        "print(\"异常样本占比：\", len(fraud_X_resampled) / (len(normal_X) + len(fraud_X_resampled)))\n",
        "\n",
        "# ​合并数据集\n",
        "# 合并多数类原始样本与少数类合成样本\n",
        "import numpy as np\n",
        "X_combined = np.concatenate([normal_X, fraud_X_resampled], axis=0)\n",
        "y_combined = np.concatenate([np.zeros(len(normal_X)), np.ones(len(fraud_X_resampled))], axis=0)\n",
        "\n",
        "# 转换为DataFrame\n",
        "data = pd.DataFrame(X_combined, columns=X.columns)\n",
        "data['Class'] = y_combined\n",
        "\n",
        "\n",
        "\n",
        "print(\"====================2.2 特征标准化\")\n",
        "from sklearn.preprocessing import StandardScaler\n",
        "\n",
        "# 标准化金额特征（Amount）\n",
        "# scaler = StandardScaler()                                                        #<<<<<<<<<<<<<<<<\n",
        "# 计算均值和标准差（fit:mean+std） + 标准正态分布（transform）\n",
        "\n",
        "# print(\"array_Amount_values 行:%r \" % (len(data['Amount'].values.astype(int))))\n",
        "# print(\"array_Amount_values.reshape(-1, 1) 行:%r \" % (len(data['Amount'].values.reshape(-1, 1).astype(int))))\n",
        "\n",
        "# data['Amount'] = scaler.fit_transform(data['Amount'].values.reshape(-1, 1))     #reshape(行，列) 当行/列不定时，可以设位 -1\n",
        "\n",
        "# 删除无关列（如时间戳Time）\n",
        "# data.drop(['Time'], axis=1, inplace=True)                                       #<<<<<<<<<<<<<<< 导致下一个命令错误\n",
        "\n",
        "print(\"====================3. 特征工程\")\n",
        "print(\"====================3.1 基于领域知识的特征生成\")\n",
        "# 生成时间窗口特征（如小时段）\n",
        "data['Hour'] = data['Time'] // 3600 % 24  # 假设Time单位为秒\n",
        "\n",
        "# 生成交易频率特征（如用户近期交易次数）\n",
        "# 假设数据中有UserID列（实际需根据数据集调整）\n",
        "data['RecentTxCount'] = data.groupby('UserID')['TransactionID'].transform('count')   # 分组聚合 *transform 前一个如果是多维注意lammdba是否返回Series\n",
        "\n",
        "print(\"====================3.2 降维（可选）\")\n",
        "from sklearn.decomposition import PCA\n",
        "\n",
        "# 对高维特征（如V1-V28）进行PCA降维\n",
        "# 若0<n_components<1，则n_components的值为主成分方差的阈值； 通过设置该变量，即可调整主成分数量K；\n",
        "# 若n_components≥1，则降维后的特征数为n_components；\n",
        "# whiten：参数为bool型，是否对降维后的数据的每个特征进行归一化，默认是False\n",
        "pca = PCA(n_components=10)\n",
        "# fit(X,y=None) ：用训练数据X训练模型，由于PCA是无监督降维，因此y=None。\n",
        "# transform(X,y=None) ：训练好模型后，对输入数据X进行降维。\n",
        "# fit_transform(X) ：用训练数据X训练模型，并对X进行降维。相当于先用fit(X)，再用transform(X)。\n",
        "# inverse_transform(X) ：将降维后的数据还原成原始数据的近似。(PCA的重建)\n",
        "pca_features = pca.fit_transform(data[['V1', 'V2', 'V3','V4','V5','V6','V7','V8','V9','V10','V11','V12','V13','V14','V15','V16','V17','V18','V19','V20','V21','V22','V23','V24','V25','V26','V27', 'V28']])\n",
        "\n",
        "# 将降维结果合并到数据集\n",
        "data_pca = pd.DataFrame(pca_features, columns=[f'PC{i}' for i in range(1, 11)])\n",
        "data = pd.concat([data, data_pca], axis=1)  # axis= 0(Y轴：默认)/1(x轴)\n",
        "\n",
        "print(\"====================4. 构建最终数据集\")\n",
        "print(\"====================4.1 分割训练集与测试集\")\n",
        "from sklearn.model_selection import train_test_split\n",
        "\n",
        "X = data.drop('Class', axis=1)\n",
        "y = data['Class']\n",
        "\n",
        "# 分层抽样保持类别比例\n",
        "X_train, X_test, y_train, y_test = train_test_split(\n",
        "    X, y, test_size=0.2, stratify=y, random_state=42\n",
        ")\n",
        "print(\"====================4.2 保存数据集\")\n",
        "# 保存为CSV或Pickle\n",
        "X_train.to_csv('train_features.csv', index=False)\n",
        "y_train.to_csv('train_labels.csv', index=False)\n",
        "X_test.to_csv('test_features.csv', index=False)\n",
        "y_test.to_csv('test_labels.csv', index=False)\n",
        "\n",
        "print(\"====================5. 验证数据集质量\")\n",
        "print(\"====================5.1 可视化特征分布\")\n",
        "import seaborn as sns\n",
        "import matplotlib.pyplot as plt\n",
        "\n",
        "# 绘制正常与异常交易的金额分布对比\n",
        "sns.histplot(data=data, x='Amount', hue='Class', element='step', stat='density')\n",
        "plt.title('Normal vs Fraud Transaction Amount')\n",
        "plt.show()\n",
        "print(\"====================5.2 特征相关性分析\")\n",
        "# 计算特征相关性矩阵\n",
        "corr_matrix = data.corr()\n",
        "\n",
        "# 绘制热力图\n",
        "plt.figure(figsize=(12, 8))\n",
        "sns.heatmap(corr_matrix, cmap='coolwarm', annot=False)\n",
        "plt.title('Feature Correlation Matrix')\n",
        "plt.show()\n",
        "\n"
      ],
      "metadata": {
        "trusted": true,
        "execution": {
          "iopub.status.busy": "2025-03-11T08:10:20.324414Z",
          "iopub.execute_input": "2025-03-11T08:10:20.325078Z",
          "iopub.status.idle": "2025-03-11T08:10:38.17606Z",
          "shell.execute_reply.started": "2025-03-11T08:10:20.325043Z",
          "shell.execute_reply": "2025-03-11T08:10:38.175093Z"
        },
        "id": "x8tuA6lCRJMK",
        "outputId": "1b101d5e-64b7-4349-f039-d7abb1f0e287"
      },
      "outputs": [
        {
          "name": "stdout",
          "text": "====================1. 数据获取与加载\n====================1.1 加载数据\n数据加载完毕 正常交易: 284315 条\n数据加载完毕 异常交易: 492 条\n====================2. 数据探索与预处理\n====================2.1 处理不平衡数据\n分离特征 正常交易: 284315 条\n分离特征 异常交易: 492 条\n采样后总样本数： 284807\n正常样本占比： 0.9982725143693799\n异常样本占比： 0.001727485630620034\n====================2.2 特征标准化\n====================3. 特征工程\n====================3.1 基于领域知识的特征生成\n====================3.2 降维（可选）\n====================4. 构建最终数据集\n====================4.1 分割训练集与测试集\n====================4.2 保存数据集\n====================5. 验证数据集质量\n====================5.1 可视化特征分布\n",
          "output_type": "stream"
        },
        {
          "name": "stderr",
          "text": "/usr/local/lib/python3.10/dist-packages/seaborn/_oldcore.py:1119: FutureWarning: use_inf_as_na option is deprecated and will be removed in a future version. Convert inf values to NaN before operating instead.\n  with pd.option_context('mode.use_inf_as_na', True):\n/usr/local/lib/python3.10/dist-packages/seaborn/_oldcore.py:1075: FutureWarning: When grouping with a length-1 list-like, you will need to pass a length-1 tuple to get_group in a future version of pandas. Pass `(name,)` instead of `name` to silence this warning.\n  data_subset = grouped_data.get_group(pd_key)\n/usr/local/lib/python3.10/dist-packages/seaborn/_oldcore.py:1075: FutureWarning: When grouping with a length-1 list-like, you will need to pass a length-1 tuple to get_group in a future version of pandas. Pass `(name,)` instead of `name` to silence this warning.\n  data_subset = grouped_data.get_group(pd_key)\n/usr/local/lib/python3.10/dist-packages/seaborn/_oldcore.py:1075: FutureWarning: When grouping with a length-1 list-like, you will need to pass a length-1 tuple to get_group in a future version of pandas. Pass `(name,)` instead of `name` to silence this warning.\n  data_subset = grouped_data.get_group(pd_key)\n/usr/local/lib/python3.10/dist-packages/seaborn/_oldcore.py:1075: FutureWarning: When grouping with a length-1 list-like, you will need to pass a length-1 tuple to get_group in a future version of pandas. Pass `(name,)` instead of `name` to silence this warning.\n  data_subset = grouped_data.get_group(pd_key)\n",
          "output_type": "stream"
        },
        {
          "output_type": "display_data",
          "data": {
            "text/plain": "<Figure size 640x480 with 1 Axes>",
            "image/png": "[encoded data removed]"
          },
          "metadata": {}
        },
        {
          "name": "stdout",
          "text": "====================5.2 特征相关性分析\n",
          "output_type": "stream"
        },
        {
          "output_type": "display_data",
          "data": {
            "text/plain": "<Figure size 1200x800 with 2 Axes>",
            "image/png": "[encoded data removed]"
          },
          "metadata": {}
        }
      ],
      "execution_count": null
    },
    {
      "cell_type": "code",
      "source": [
        "# Test 1\n",
        "# import os\n",
        "\n",
        "# # 检查文件路径\n",
        "# file_path = \"/kaggle/input/functions/FileObject.py\"\n",
        "# if os.path.exists(file_path):\n",
        "#     print(\"文件存在！\")\n",
        "# else:\n",
        "#     print(\"文件不存在，请检查数据集上传路径。\")\n",
        "\n",
        "# Test 2\n",
        "import pandas as pd\n",
        "\n",
        "d1 = [[\"xiaolei\", 20, 10081], [\"xiaowu\", 30, 10082]]\n",
        "t1 = pd.DataFrame(d1)\n",
        "print(t1)\n",
        "\n",
        "d2 = [[\"xiaowang\", 22, 10083], [\"xiaoming\", 25, 10084]]\n",
        "t2 = pd.DataFrame(d2)\n",
        "print(t2)\n",
        "\n",
        "# 默认是上下堆叠\n",
        "t = pd.concat([t1, t2])\n",
        "print(t)\n",
        "# 左右拼接\n",
        "t = pd.concat([t1, t2], axis=1)\n",
        "print(t)\n"
      ],
      "metadata": {
        "trusted": true,
        "jupyter": {
          "source_hidden": true
        },
        "id": "SI9Hk2ekRJML"
      },
      "outputs": [],
      "execution_count": null
    },
    {
      "cell_type": "markdown",
      "source": [
        "**原版SMOTE的局限性**\n",
        "\n",
        "* 噪声敏感：若少数类样本本身存在异常值，生成的合成样本可能引入噪声。\n",
        "* 边界模糊：在多数类与少数类交界区域生成样本，可能造成分类边界错误。\n",
        "\n",
        "\n",
        "**改良算法**\n",
        "\n",
        "* Borderline SMOTE\n",
        "1. 原理：仅对边界样本（同时被多数类和少数类近邻包围的样本）生成合成样本，避免噪声干扰。\n",
        "2. 适用场景：医学影像分类、**金融反欺诈**中的临界样本处理。\n",
        "* ADASYN（Adaptive Synthetic Sampling）​\n",
        "1. 原理：根据样本邻域中多数类的密度生成合成样本，密度越高生成越多，解决类别不平衡中的“硬”边界问题。\n",
        "2. 适用场景：高维数据（如基因表达数据）、复杂分布的非平衡数据。"
      ],
      "metadata": {
        "id": "I4lxfU3DRJML"
      }
    },
    {
      "cell_type": "code",
      "source": [
        "# SMOTE + Tomek Links\n",
        "# ​流程：\n",
        "#   使用SMOTE生成合成样本；\n",
        "#   通过Tomek Links移除多数类与少数类邻域重叠的噪声点，清晰分类边界。\n",
        "# ​优势：\n",
        "#   减少过采样引入的噪声，提升模型泛化能力。\n",
        "from imblearn.combine import SMOTETomek\n",
        "smote_tomek = SMOTETomek(random_state=42)\n",
        "X_resampled, y_resampled = smote_tomek.fit_resample(X, y)"
      ],
      "metadata": {
        "trusted": true,
        "jupyter": {
          "source_hidden": true
        },
        "id": "iSeZnoboRJMM"
      },
      "outputs": [],
      "execution_count": null
    },
    {
      "cell_type": "code",
      "source": [
        "# 组合采样（SMOTEENN）​\n",
        "# ​流程：\n",
        "#   使用SMOTE生成合成样本；\n",
        "#   通过ENN（Edited Nearest Neighbours）移除多数类噪声点。\n",
        "# ​优势：\n",
        "#   同时处理过采样和欠采样，简化流程\n",
        "from imblearn.combine import SMOTEENN\n",
        "smote_enn = SMOTEENN(random_state=42)\n",
        "X_resampled, y_resampled = smote_enn.fit_resample(X, y)"
      ],
      "metadata": {
        "trusted": true,
        "jupyter": {
          "source_hidden": true
        },
        "id": "fOsF2m5vRJMM"
      },
      "outputs": [],
      "execution_count": null
    },
    {
      "cell_type": "code",
      "source": [
        "# SMOTE + ADASYN\n",
        "# ​流程：\n",
        "#   使用ADASYN生成合成样本（基于邻域密度）；\n",
        "#   结合SMOTE进一步补充样本多样性。\n",
        "# ​优势：\n",
        "#   自适应生成样本，适用于高维、非线性可分数据。\n",
        "from imblearn.combine import SMOTEENN\n",
        "smote_enn = SMOTEENN(random_state=42)\n",
        "X_resampled, y_resampled = smote_enn.fit_resample(X, y)"
      ],
      "metadata": {
        "trusted": true,
        "jupyter": {
          "source_hidden": true
        },
        "id": "9StpLPRiRJMM"
      },
      "outputs": [],
      "execution_count": null
    },
    {
      "cell_type": "markdown",
      "source": [
        "* 方差     是各数据偏离平均值 差值的平方和 的平均数\n",
        "* 标准差   是方差的平方根\n",
        "* 均方误差（MSE）是各数据偏离真实值 差值的平方和 的平均数"
      ],
      "metadata": {
        "id": "wQX9CPwFRJMN"
      }
    },
    {
      "cell_type": "code",
      "source": [
        "# StandardScaler原理\n",
        "from sklearn.preprocessing import StandardScaler  # 标准化工具\n",
        "import numpy as np\n",
        "\n",
        "x_np = np.array([[1.5, -1., 2.],\n",
        "                [2., 0., 0.]])\n",
        "scaler = StandardScaler()\n",
        "x_train = scaler.fit_transform(x_np)\n",
        "print('矩阵初值为：{}'.format(x_np))\n",
        "print('该矩阵的均值为：{}\\n 该矩阵的标准差为：{}'.format(scaler.mean_,np.sqrt(scaler.var_)))\n",
        "print('标准差标准化的矩阵为：{}'.format(x_train))\n",
        "\n",
        "\n"
      ],
      "metadata": {
        "trusted": true,
        "jupyter": {
          "source_hidden": true
        },
        "id": "HSphI2AnRJMN"
      },
      "outputs": [],
      "execution_count": null
    },
    {
      "cell_type": "code",
      "source": [
        "from sklearn.preprocessing import StandardScaler\n",
        "import numpy as np\n",
        "\n",
        "# 创建一个 3 x 2 的矩阵\n",
        "X = np.array([[1, 2], [3, 4], [5, 6]])\n",
        "\n",
        "# 使用 fit_transform 方法标准化数据\n",
        "scaler = StandardScaler()\n",
        "X_scaled1 = scaler.fit_transform(X)\n",
        "\n",
        "# 使用 fit 和 transform 方法标准化数据\n",
        "scaler = StandardScaler()\n",
        "scaler.fit(X)\n",
        "X_scaled2 = scaler.transform(X)\n",
        "\n",
        "# 打印结果\n",
        "print(\"使用 fit_transform 方法标准化的结果：\\n\", X_scaled1)\n",
        "print(\"使用 fit 和 transform 方法标准化的结果：\\n\", X_scaled2)"
      ],
      "metadata": {
        "trusted": true,
        "jupyter": {
          "source_hidden": true
        },
        "id": "krRrTkd9RJMN"
      },
      "outputs": [],
      "execution_count": null
    },
    {
      "cell_type": "code",
      "source": [
        "from sklearn.preprocessing import StandardScaler\n",
        "import numpy as np\n",
        "\n",
        "# 创建一个 3 x 2 的矩阵\n",
        "X = np.array([[1, 2], [3, 4], [5, 6]])\n",
        "\n",
        "# 创建 StandardScaler 对象\n",
        "scaler = StandardScaler()\n",
        "\n",
        "# 计算均值和标准差\n",
        "scaler.fit(X)\n",
        "\n",
        "# 将数据标准化为标准正态分布\n",
        "X_scaled = scaler.transform(X)\n",
        "\n",
        "# 打印结果\n",
        "print(\"原始数据：\\n\", X)\n",
        "print(\"均值：\", scaler.mean_)\n",
        "print(\"标准差：\", scaler.scale_)\n",
        "print(\"标准化后的数据：\\n\", X_scaled)"
      ],
      "metadata": {
        "trusted": true,
        "jupyter": {
          "source_hidden": true
        },
        "id": "5CyE3zqhRJMN"
      },
      "outputs": [],
      "execution_count": null
    },
    {
      "cell_type": "code",
      "source": [
        "import pandas as pd\n",
        "\n",
        "# 创建一个DataFrame\n",
        "df = pd.DataFrame({\n",
        "'Weight': [45, 88, 56, 15, 71],\n",
        "'Name': ['Sam', 'Andrea', 'Alex', 'Robin', 'Kia'],\n",
        "'Age': [14, 25, 55, 8, 21]\n",
        "})\n",
        "print(df)\n",
        "# 使用.values属性获取NumPy数组\n",
        "data_array = df.values\n",
        "\n",
        "# 输出NumPy数组\n",
        "print(data_array)\n",
        "\n",
        "# 输出NumPy数组 行 +列\n",
        "print(len(data_array))\n",
        "print(len(data_array[0]))"
      ],
      "metadata": {
        "trusted": true,
        "jupyter": {
          "source_hidden": true
        },
        "id": "RYcPmGd2RJMN"
      },
      "outputs": [],
      "execution_count": null
    },
    {
      "cell_type": "code",
      "source": [
        "#DataFrame.transform\n",
        "import pandas as pd\n",
        "\n",
        "# ​1. 按列进行特征工程\n",
        "\n",
        "# 创建示例数据\n",
        "df = pd.DataFrame({\n",
        "    'A': [1, 2, 3],\n",
        "    'B': [10, 20, 30]\n",
        "})\n",
        "\n",
        "# 定义函数：将每列乘以 100\n",
        "def multiply_by_100(col):\n",
        "    return col + 10\n",
        "\n",
        "# 对每列应用函数\n",
        "df_transformed = df.transform(multiply_by_100)\n",
        "print(df_transformed)\n",
        "\n",
        "# # ​2. 生成新特征（基于多列计算）​\n",
        "\n",
        "# # 创建新列 \"C\" = A + B\n",
        "# df['C'] = df.import pandas as pd\n",
        "\n",
        "# # 创建示例数据\n",
        "# df = pd.DataFrame({\n",
        "#     'Category': ['A', 'A', 'B', 'B', 'C', 'C'],\n",
        "#     'Value': [10, 20, 30, 40, 50, 60]\n",
        "# })\n",
        "\n",
        "# # 使用 lambda 按列生成新特征（例如：分类标签编码）\n",
        "# df['Encoded_Category'] = df['Category'].transform(\n",
        "#     lambda x: {'A': 0, 'B': 1, 'C': 2}[x]\n",
        "# )\n",
        "\n",
        "# print(df)(lambda x:x['A']+x['B'], axis=0)\n",
        "\n",
        "# print(df['C'] )\n",
        "# sys.exit()\n",
        "# # ​3. 标准化数据（Z-Score）\n",
        "# from sklearn.preprocessing import StandardScaler\n",
        "\n",
        "# # 对数值列标准化\n",
        "# df[['A', 'B']] = df[['A', 'B']].transform(\n",
        "#     lambda x: (x - x.mean()) / x.std(),\n",
        "#     axis=0\n",
        "# )\n",
        "\n",
        "# ​4. 分组聚合（GroupBy + Transform）​\n",
        "\n",
        "# 按某列分组，计算每组的统计量（如均值、中位数）\n",
        "df = pd.DataFrame({\n",
        "    'Group': ['A', 'A', 'A', 'B', 'B', 'B'],\n",
        "    'Value': [1, 2, 3, 4, 5, 6]\n",
        "})\n",
        "\n",
        "# 计算每组内的均值并填充到原数据\n",
        "df['Group_Mean'] = df.groupby('Group')['Value'].transform('mean')   # 优先使用python内置函数 mean()、std()\n",
        "print(df)"
      ],
      "metadata": {
        "trusted": true,
        "jupyter": {
          "source_hidden": true
        },
        "id": "6kJPbnRSRJMN"
      },
      "outputs": [],
      "execution_count": null
    },
    {
      "cell_type": "code",
      "source": [
        "import pandas as pd\n",
        "\n",
        "# 测试数据\n",
        "df = pd.DataFrame({'A': [1, 2, 3], 'B': [4, 5, 6]})\n",
        "def complex_func(x):\n",
        "    x['C'] = x['A'] + x['B']\n",
        "    return x['C']  # 返回 Series，但索引可能错乱\n",
        "\n",
        "\n",
        "# df['C'] = df.transform(lambda x:x['A']+x['B'] if x['A'] % 2 == 1 else x['A'] * x['B'] )\n",
        "print(df)\n"
      ],
      "metadata": {
        "trusted": true,
        "jupyter": {
          "source_hidden": true
        },
        "id": "UBp8OzWNRJMO"
      },
      "outputs": [],
      "execution_count": null
    }
  ]
}